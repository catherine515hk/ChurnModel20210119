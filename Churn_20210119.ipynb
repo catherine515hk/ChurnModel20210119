{
 "cells": [
  {
   "cell_type": "markdown",
   "metadata": {},
   "source": [
    "## The goal of this study is \n",
    "### 1)\tIdentify and visualize the factors that lead customers to terminate their credit cards.\n",
    "### 2)\tBuild predictions model that used for classifying if a customer is going to churn or not.\n",
    "### 3)\tDo Model Evaluation to choose the best model."
   ]
  },
  {
   "cell_type": "markdown",
   "metadata": {},
   "source": [
    "# Import Library"
   ]
  },
  {
   "cell_type": "code",
   "execution_count": 1,
   "metadata": {},
   "outputs": [],
   "source": [
    "import pandas as pd\n",
    "import numpy as np\n",
    "import matplotlib.pyplot as plt\n",
    "%matplotlib inline\n",
    "import seaborn as sns\n",
    "from sklearn.metrics import confusion_matrix,accuracy_score,precision_score,recall_score,f1_score"
   ]
  },
  {
   "cell_type": "markdown",
   "metadata": {},
   "source": [
    "# Data Extraction"
   ]
  },
  {
   "cell_type": "code",
   "execution_count": 2,
   "metadata": {},
   "outputs": [],
   "source": [
    "df=pd.read_csv('Churn_Modelling.csv')"
   ]
  },
  {
   "cell_type": "markdown",
   "metadata": {},
   "source": [
    "# Exploratory Data Analysis (EDA)"
   ]
  },
  {
   "cell_type": "markdown",
   "metadata": {},
   "source": [
    "## Checking Missing Value and Data Type"
   ]
  },
  {
   "cell_type": "code",
   "execution_count": 3,
   "metadata": {},
   "outputs": [
    {
     "name": "stdout",
     "output_type": "stream",
     "text": [
      "<class 'pandas.core.frame.DataFrame'>\n",
      "RangeIndex: 10000 entries, 0 to 9999\n",
      "Data columns (total 14 columns):\n",
      " #   Column           Non-Null Count  Dtype  \n",
      "---  ------           --------------  -----  \n",
      " 0   RowNumber        10000 non-null  int64  \n",
      " 1   CustomerId       10000 non-null  int64  \n",
      " 2   Surname          10000 non-null  object \n",
      " 3   CreditScore      10000 non-null  int64  \n",
      " 4   Geography        10000 non-null  object \n",
      " 5   Gender           10000 non-null  object \n",
      " 6   Age              10000 non-null  int64  \n",
      " 7   Tenure           10000 non-null  int64  \n",
      " 8   Balance          10000 non-null  float64\n",
      " 9   NumOfProducts    10000 non-null  int64  \n",
      " 10  HasCrCard        10000 non-null  int64  \n",
      " 11  IsActiveMember   10000 non-null  int64  \n",
      " 12  EstimatedSalary  10000 non-null  float64\n",
      " 13  Exited           10000 non-null  int64  \n",
      "dtypes: float64(2), int64(9), object(3)\n",
      "memory usage: 1.1+ MB\n"
     ]
    }
   ],
   "source": [
    "df.info()"
   ]
  },
  {
   "cell_type": "code",
   "execution_count": 4,
   "metadata": {},
   "outputs": [
    {
     "data": {
      "text/html": [
       "<div>\n",
       "<style scoped>\n",
       "    .dataframe tbody tr th:only-of-type {\n",
       "        vertical-align: middle;\n",
       "    }\n",
       "\n",
       "    .dataframe tbody tr th {\n",
       "        vertical-align: top;\n",
       "    }\n",
       "\n",
       "    .dataframe thead th {\n",
       "        text-align: right;\n",
       "    }\n",
       "</style>\n",
       "<table border=\"1\" class=\"dataframe\">\n",
       "  <thead>\n",
       "    <tr style=\"text-align: right;\">\n",
       "      <th></th>\n",
       "      <th>CustomerId</th>\n",
       "    </tr>\n",
       "    <tr>\n",
       "      <th>Exited</th>\n",
       "      <th></th>\n",
       "    </tr>\n",
       "  </thead>\n",
       "  <tbody>\n",
       "    <tr>\n",
       "      <th>0</th>\n",
       "      <td>7963</td>\n",
       "    </tr>\n",
       "    <tr>\n",
       "      <th>1</th>\n",
       "      <td>2037</td>\n",
       "    </tr>\n",
       "  </tbody>\n",
       "</table>\n",
       "</div>"
      ],
      "text/plain": [
       "        CustomerId\n",
       "Exited            \n",
       "0             7963\n",
       "1             2037"
      ]
     },
     "execution_count": 4,
     "metadata": {},
     "output_type": "execute_result"
    }
   ],
   "source": [
    "df.groupby('Exited').agg({'CustomerId':'count'})"
   ]
  },
  {
   "cell_type": "markdown",
   "metadata": {},
   "source": [
    "#### 1) There is no missing value.\n",
    "#### 2) Continuous Data: Age, Estimated Salary, Balance, CreditScore\n",
    "#### 3a) Categorical Data: Gender, Geography,Tenure\n",
    "#### 3b) HasCrCard, IsActiveMember and NumofProducts should be Categorical/ Binary Data rather than int64\n",
    "#### 4a) Label: Exited should be Categorical data\n",
    "#### 4b) Label: Exited is imbalance, the proportion of Exit:Not Exit around 20%:80%"
   ]
  },
  {
   "cell_type": "markdown",
   "metadata": {},
   "source": [
    "## Prepare Dataset for EDA"
   ]
  },
  {
   "cell_type": "code",
   "execution_count": 5,
   "metadata": {},
   "outputs": [],
   "source": [
    "EDA_Data=df.copy()\n",
    "EDA_Data['Exited']=EDA_Data['Exited'].apply(lambda x: 'Exit' if x==1 else 'Not Exit')\n",
    "EDA_Data['HasCrCard']=EDA_Data['HasCrCard'].apply(lambda x: 'Has Credit Card' if x==1 else 'Do not have Credit Card')\n",
    "EDA_Data['IsActiveMember']=EDA_Data['IsActiveMember'].apply(lambda x: 'Active Member' if x==1 else 'Inactive Member')\n",
    "EDA_Data['NumOfProducts']=EDA_Data['NumOfProducts'].astype('str')"
   ]
  },
  {
   "cell_type": "code",
   "execution_count": 6,
   "metadata": {},
   "outputs": [
    {
     "data": {
      "text/html": [
       "<div>\n",
       "<style scoped>\n",
       "    .dataframe tbody tr th:only-of-type {\n",
       "        vertical-align: middle;\n",
       "    }\n",
       "\n",
       "    .dataframe tbody tr th {\n",
       "        vertical-align: top;\n",
       "    }\n",
       "\n",
       "    .dataframe thead th {\n",
       "        text-align: right;\n",
       "    }\n",
       "</style>\n",
       "<table border=\"1\" class=\"dataframe\">\n",
       "  <thead>\n",
       "    <tr style=\"text-align: right;\">\n",
       "      <th></th>\n",
       "      <th>CreditScore</th>\n",
       "      <th>Age</th>\n",
       "      <th>Tenure</th>\n",
       "      <th>Balance</th>\n",
       "      <th>EstimatedSalary</th>\n",
       "    </tr>\n",
       "  </thead>\n",
       "  <tbody>\n",
       "    <tr>\n",
       "      <th>count</th>\n",
       "      <td>10000.000000</td>\n",
       "      <td>10000.000000</td>\n",
       "      <td>10000.000000</td>\n",
       "      <td>10000.000000</td>\n",
       "      <td>10000.000000</td>\n",
       "    </tr>\n",
       "    <tr>\n",
       "      <th>mean</th>\n",
       "      <td>650.528800</td>\n",
       "      <td>38.921800</td>\n",
       "      <td>5.012800</td>\n",
       "      <td>76485.889288</td>\n",
       "      <td>100090.239881</td>\n",
       "    </tr>\n",
       "    <tr>\n",
       "      <th>std</th>\n",
       "      <td>96.653299</td>\n",
       "      <td>10.487806</td>\n",
       "      <td>2.892174</td>\n",
       "      <td>62397.405202</td>\n",
       "      <td>57510.492818</td>\n",
       "    </tr>\n",
       "    <tr>\n",
       "      <th>min</th>\n",
       "      <td>350.000000</td>\n",
       "      <td>18.000000</td>\n",
       "      <td>0.000000</td>\n",
       "      <td>0.000000</td>\n",
       "      <td>11.580000</td>\n",
       "    </tr>\n",
       "    <tr>\n",
       "      <th>25%</th>\n",
       "      <td>584.000000</td>\n",
       "      <td>32.000000</td>\n",
       "      <td>3.000000</td>\n",
       "      <td>0.000000</td>\n",
       "      <td>51002.110000</td>\n",
       "    </tr>\n",
       "    <tr>\n",
       "      <th>50%</th>\n",
       "      <td>652.000000</td>\n",
       "      <td>37.000000</td>\n",
       "      <td>5.000000</td>\n",
       "      <td>97198.540000</td>\n",
       "      <td>100193.915000</td>\n",
       "    </tr>\n",
       "    <tr>\n",
       "      <th>75%</th>\n",
       "      <td>718.000000</td>\n",
       "      <td>44.000000</td>\n",
       "      <td>7.000000</td>\n",
       "      <td>127644.240000</td>\n",
       "      <td>149388.247500</td>\n",
       "    </tr>\n",
       "    <tr>\n",
       "      <th>max</th>\n",
       "      <td>850.000000</td>\n",
       "      <td>92.000000</td>\n",
       "      <td>10.000000</td>\n",
       "      <td>250898.090000</td>\n",
       "      <td>199992.480000</td>\n",
       "    </tr>\n",
       "  </tbody>\n",
       "</table>\n",
       "</div>"
      ],
      "text/plain": [
       "        CreditScore           Age        Tenure        Balance  \\\n",
       "count  10000.000000  10000.000000  10000.000000   10000.000000   \n",
       "mean     650.528800     38.921800      5.012800   76485.889288   \n",
       "std       96.653299     10.487806      2.892174   62397.405202   \n",
       "min      350.000000     18.000000      0.000000       0.000000   \n",
       "25%      584.000000     32.000000      3.000000       0.000000   \n",
       "50%      652.000000     37.000000      5.000000   97198.540000   \n",
       "75%      718.000000     44.000000      7.000000  127644.240000   \n",
       "max      850.000000     92.000000     10.000000  250898.090000   \n",
       "\n",
       "       EstimatedSalary  \n",
       "count     10000.000000  \n",
       "mean     100090.239881  \n",
       "std       57510.492818  \n",
       "min          11.580000  \n",
       "25%       51002.110000  \n",
       "50%      100193.915000  \n",
       "75%      149388.247500  \n",
       "max      199992.480000  "
      ]
     },
     "execution_count": 6,
     "metadata": {},
     "output_type": "execute_result"
    }
   ],
   "source": [
    "EDA_Data.drop(['RowNumber','CustomerId'],axis=1).describe()"
   ]
  },
  {
   "cell_type": "markdown",
   "metadata": {},
   "source": [
    "## Part 1: Full Picture Overview"
   ]
  },
  {
   "cell_type": "code",
   "execution_count": 7,
   "metadata": {},
   "outputs": [
    {
     "data": {
      "image/png": "[encoded data removed]",
      "text/plain": [
       "<Figure size 1800x360 with 5 Axes>"
      ]
     },
     "metadata": {
      "needs_background": "light"
     },
     "output_type": "display_data"
    }
   ],
   "source": [
    "ContData = ['Age', 'CreditScore', 'Balance', 'EstimatedSalary']\n",
    "EDA_Data[ContData].hist(figsize = (25, 5), bins = 20, layout = (1, 5),  linewidth = 1.5,color='orange', edgecolor='b');"
   ]
  },
  {
   "cell_type": "markdown",
   "metadata": {},
   "source": [
    "#### We can see that:\n",
    "#### 1) Our customers with age between 18-92, tend to be right than left.\n",
    "#### 2) Apart from customers without balance, customers with balance is normal distributed.\n",
    "#### 3) Our customers with CreditScore between 350-850, most of them with CreditScore higher than 600.\n",
    "#### 4) EstimatedSalary is evenly distributed, which can be ignored in model training."
   ]
  },
  {
   "cell_type": "code",
   "execution_count": 8,
   "metadata": {},
   "outputs": [
    {
     "data": {
      "image/png": "[encoded data removed]",
      "text/plain": [
       "<Figure size 864x576 with 6 Axes>"
      ]
     },
     "metadata": {
      "needs_background": "light"
     },
     "output_type": "display_data"
    }
   ],
   "source": [
    "CatData = ['Gender','Geography','Tenure', 'NumOfProducts', 'HasCrCard', 'IsActiveMember']\n",
    "CatData1 = EDA_Data[CatData]\n",
    "fig, ax = plt.subplots(2, 3, figsize = (12, 8))\n",
    "for index, column in enumerate(CatData1.columns):\n",
    "    plt.subplot(2, 3, index + 1)\n",
    "    sns.countplot(x = column, data = CatData1)\n",
    "    plt.ylabel('Count')"
   ]
  },
  {
   "cell_type": "markdown",
   "metadata": {},
   "source": [
    "#### We can see that:\n",
    "#### 1) Male customer is more than Female customer.\n",
    "#### 2) Customer in France is 50% more than Spain and Germany respectively.\n",
    "#### 3) Tenure is evenly distributed for those 1-9 years, only a few customer leaves less than 1 year.\n",
    "#### 4) Most of our customer has 1 to 2 numbers of products.\n",
    "#### 5) More than 2/3 customers have Credit Card.\n",
    "#### 6) More than half customers are active."
   ]
  },
  {
   "cell_type": "markdown",
   "metadata": {},
   "source": [
    "## Part 2: Comparision between Exited and Not Exited Customer"
   ]
  },
  {
   "cell_type": "code",
   "execution_count": 9,
   "metadata": {},
   "outputs": [],
   "source": [
    "## Prepare 2 datasets: Exit and Not Exit\n",
    "TE=EDA_Data[EDA_Data['Exited']=='Exit']\n",
    "FE=EDA_Data[EDA_Data['Exited']=='Not Exit']"
   ]
  },
  {
   "cell_type": "markdown",
   "metadata": {},
   "source": [
    "### 1) Relationship between Age and Exited"
   ]
  },
  {
   "cell_type": "code",
   "execution_count": 10,
   "metadata": {},
   "outputs": [
    {
     "data": {
      "text/plain": [
       "<matplotlib.axes._subplots.AxesSubplot at 0x1c7819229c8>"
      ]
     },
     "execution_count": 10,
     "metadata": {},
     "output_type": "execute_result"
    },
    {
     "data": {
      "image/png": "[encoded data removed]",
      "text/plain": [
       "<Figure size 432x288 with 1 Axes>"
      ]
     },
     "metadata": {
      "needs_background": "light"
     },
     "output_type": "display_data"
    }
   ],
   "source": [
    "sns.boxplot(x='Exited',y='Age',data=EDA_Data)"
   ]
  },
  {
   "cell_type": "code",
   "execution_count": 11,
   "metadata": {},
   "outputs": [
    {
     "data": {
      "text/plain": [
       "<matplotlib.axes._subplots.AxesSubplot at 0x1c7818c85c8>"
      ]
     },
     "execution_count": 11,
     "metadata": {},
     "output_type": "execute_result"
    },
    {
     "data": {
      "image/png": "[encoded data removed]",
      "text/plain": [
       "<Figure size 432x288 with 1 Axes>"
      ]
     },
     "metadata": {
      "needs_background": "light"
     },
     "output_type": "display_data"
    }
   ],
   "source": [
    "sns.distplot(a=TE['Age'],label='Exited',kde=True)\n",
    "sns.distplot(a=FE['Age'],label='Not Exited',kde=True)"
   ]
  },
  {
   "cell_type": "markdown",
   "metadata": {},
   "source": [
    "#### Overall, customer who exited is older than those not exit. \n",
    "#### The median of exited customer is around 45 years old.\n",
    "#### The median of exited customer is already older than 75% not exit customer."
   ]
  },
  {
   "cell_type": "markdown",
   "metadata": {},
   "source": [
    "### 2) Relationship between Balance and Exited"
   ]
  },
  {
   "cell_type": "code",
   "execution_count": 267,
   "metadata": {},
   "outputs": [
    {
     "data": {
      "text/plain": [
       "<matplotlib.axes._subplots.AxesSubplot at 0x1eb176d8408>"
      ]
     },
     "execution_count": 267,
     "metadata": {},
     "output_type": "execute_result"
    },
    {
     "data": {
      "image/png": "[encoded data removed]",
      "text/plain": [
       "<Figure size 432x288 with 1 Axes>"
      ]
     },
     "metadata": {
      "needs_background": "light"
     },
     "output_type": "display_data"
    }
   ],
   "source": [
    "sns.boxplot(x='Exited',y='Balance',data=EDA_Data)"
   ]
  },
  {
   "cell_type": "code",
   "execution_count": 268,
   "metadata": {},
   "outputs": [
    {
     "data": {
      "text/plain": [
       "<matplotlib.axes._subplots.AxesSubplot at 0x1eb1ac52f48>"
      ]
     },
     "execution_count": 268,
     "metadata": {},
     "output_type": "execute_result"
    },
    {
     "data": {
      "image/png": "[encoded data removed]",
      "text/plain": [
       "<Figure size 432x288 with 1 Axes>"
      ]
     },
     "metadata": {
      "needs_background": "light"
     },
     "output_type": "display_data"
    }
   ],
   "source": [
    "sns.distplot(a=TE['Balance'],label='Exited',kde=True)\n",
    "sns.distplot(a=FE['Balance'],label='Not Exited',kde=True)"
   ]
  },
  {
   "cell_type": "markdown",
   "metadata": {},
   "source": [
    "#### Customer whose balance less than $40000 are more likely not exit\n",
    "#### The distribution of Exit and Not Exit customer are so similar"
   ]
  },
  {
   "cell_type": "markdown",
   "metadata": {},
   "source": [
    "### 3) Relationship between Credit Score and Exited"
   ]
  },
  {
   "cell_type": "code",
   "execution_count": 269,
   "metadata": {},
   "outputs": [
    {
     "data": {
      "text/plain": [
       "<matplotlib.axes._subplots.AxesSubplot at 0x1eb1b68ab88>"
      ]
     },
     "execution_count": 269,
     "metadata": {},
     "output_type": "execute_result"
    },
    {
     "data": {
      "image/png": "[encoded data removed]",
      "text/plain": [
       "<Figure size 432x288 with 1 Axes>"
      ]
     },
     "metadata": {
      "needs_background": "light"
     },
     "output_type": "display_data"
    }
   ],
   "source": [
    "sns.boxplot(x='Exited',y='CreditScore',data=EDA_Data)"
   ]
  },
  {
   "cell_type": "code",
   "execution_count": 278,
   "metadata": {},
   "outputs": [
    {
     "data": {
      "text/plain": [
       "<matplotlib.axes._subplots.AxesSubplot at 0x1eb1b4b7a88>"
      ]
     },
     "execution_count": 278,
     "metadata": {},
     "output_type": "execute_result"
    },
    {
     "data": {
      "image/png": "[encoded data removed]",
      "text/plain": [
       "<Figure size 432x288 with 1 Axes>"
      ]
     },
     "metadata": {
      "needs_background": "light"
     },
     "output_type": "display_data"
    }
   ],
   "source": [
    "sns.distplot(a=TE['CreditScore'],label='Exited',kde=True)\n",
    "sns.distplot(a=FE['CreditScore'],label='Not Exited',kde=True)"
   ]
  },
  {
   "cell_type": "markdown",
   "metadata": {},
   "source": [
    "#### There is no significant differnet between Exited and Not Exited Customer in term of Credit Score\n",
    "#### There are some outliers whose score fall around 350. "
   ]
  },
  {
   "cell_type": "markdown",
   "metadata": {},
   "source": [
    "### 4) Relationship between EstimatedSalary and Exited"
   ]
  },
  {
   "cell_type": "code",
   "execution_count": 12,
   "metadata": {},
   "outputs": [
    {
     "data": {
      "text/plain": [
       "<matplotlib.axes._subplots.AxesSubplot at 0x1eb079a4a08>"
      ]
     },
     "execution_count": 12,
     "metadata": {},
     "output_type": "execute_result"
    },
    {
     "data": {
      "image/png": "[encoded data removed]",
      "text/plain": [
       "<Figure size 432x288 with 1 Axes>"
      ]
     },
     "metadata": {
      "needs_background": "light"
     },
     "output_type": "display_data"
    }
   ],
   "source": [
    "sns.boxplot(x='Exited',y='EstimatedSalary',data=EDA_Data)"
   ]
  },
  {
   "cell_type": "code",
   "execution_count": 279,
   "metadata": {},
   "outputs": [
    {
     "data": {
      "text/plain": [
       "<matplotlib.axes._subplots.AxesSubplot at 0x1eb1b612648>"
      ]
     },
     "execution_count": 279,
     "metadata": {},
     "output_type": "execute_result"
    },
    {
     "data": {
      "image/png": "[encoded data removed]",
      "text/plain": [
       "<Figure size 432x288 with 1 Axes>"
      ]
     },
     "metadata": {
      "needs_background": "light"
     },
     "output_type": "display_data"
    }
   ],
   "source": [
    "sns.distplot(a=TE['EstimatedSalary'],label='Exited',kde=True)\n",
    "sns.distplot(a=FE['EstimatedSalary'],label='Not Exited',kde=True)"
   ]
  },
  {
   "cell_type": "markdown",
   "metadata": {},
   "source": [
    "#### There is no significant differnet between Exited and Not Exited Customer in term of Estimated Salary"
   ]
  },
  {
   "cell_type": "markdown",
   "metadata": {},
   "source": [
    "### Correlation between continuous features"
   ]
  },
  {
   "cell_type": "code",
   "execution_count": 21,
   "metadata": {},
   "outputs": [
    {
     "data": {
      "text/plain": [
       "<matplotlib.axes._subplots.AxesSubplot at 0x1c7824e5348>"
      ]
     },
     "execution_count": 21,
     "metadata": {},
     "output_type": "execute_result"
    },
    {
     "data": {
      "image/png": "[encoded data removed]",
      "text/plain": [
       "<Figure size 432x432 with 2 Axes>"
      ]
     },
     "metadata": {
      "needs_background": "light"
     },
     "output_type": "display_data"
    }
   ],
   "source": [
    "plt.figure(figsize=(6,6))\n",
    "EDA2=EDA_Data.loc[:,['Exited','Age', 'CreditScore', 'Balance', 'EstimatedSalary']]\n",
    "sns.heatmap(EDA2.corr(),vmin=-1,vmax=1,annot=True)"
   ]
  },
  {
   "cell_type": "markdown",
   "metadata": {},
   "source": [
    "#### Features with color close to 0 means no correlation, \n",
    "#### Features with color close to -1 or 1 means having strong negative or postive relationship to each other respectively. \n",
    "#### From the above heat map, we can see that all continuous features only have weak relationship to each other.\n",
    "#### Therefore, the data does not have multicollinearity."
   ]
  },
  {
   "cell_type": "markdown",
   "metadata": {},
   "source": [
    "### Relationship between Categorical Features and Exited"
   ]
  },
  {
   "cell_type": "code",
   "execution_count": 283,
   "metadata": {},
   "outputs": [
    {
     "data": {
      "text/plain": [
       "<matplotlib.axes._subplots.AxesSubplot at 0x1eb1cbf4708>"
      ]
     },
     "execution_count": 283,
     "metadata": {},
     "output_type": "execute_result"
    },
    {
     "data": {
      "image/png": "[encoded data removed]",
      "text/plain": [
       "<Figure size 720x1080 with 6 Axes>"
      ]
     },
     "metadata": {
      "needs_background": "light"
     },
     "output_type": "display_data"
    }
   ],
   "source": [
    "fig, axis = plt.subplots(3, 2, figsize=(10,15),)\n",
    "axis[0,0].set_title(\"Relationship between Gender and Exited\")\n",
    "axis[0,1].set_title(\"Relationship between Geography and Exited\")\n",
    "axis[1,0].set_title(\"Relationship between Has Credit Card and Exited\")\n",
    "axis[1,1].set_title(\"Relationship between Is Active and Exited\")\n",
    "axis[2,0].set_title(\"Relationship between No. of Product and Exited\")\n",
    "axis[2,1].set_title(\"Relationship between Tenure and Exited\")\n",
    "\n",
    "sns.countplot(x='Gender',hue='Exited',data=EDA_Data,ax=axis[0,0])\n",
    "sns.countplot(x='Geography',hue='Exited',data=EDA_Data,ax=axis[0,1])\n",
    "sns.countplot(x='HasCrCard',hue='Exited',data=EDA_Data,ax=axis[1,0])\n",
    "sns.countplot(x='IsActiveMember',hue='Exited',data=EDA_Data,ax=axis[1,1])\n",
    "sns.countplot(x='NumOfProducts',hue='Exited',data=EDA_Data,ax=axis[2,0])\n",
    "sns.countplot(x='Tenure',hue='Exited',data=EDA_Data,ax=axis[2,1])\n",
    "\n",
    "#axis[2,1].remove()"
   ]
  },
  {
   "cell_type": "markdown",
   "metadata": {},
   "source": [
    "#### From the above diagram, we can see that:\n",
    "#### 1) More Female exit than Male\n",
    "#### 2) Customer in Germany more likely to exit\n",
    "#### 3) Inactive Member has higher proportion to exit than Active Member\n",
    "#### 4) Credit Card does not affect the churn rate\n",
    "#### 5) Customer with 2 products have higher proportion not exit; customer has more than or equal to 3 products are more likely to leave.\n",
    "#### 6) Tenure does not affect the churn rate"
   ]
  },
  {
   "cell_type": "markdown",
   "metadata": {},
   "source": [
    "#### To sum up, Age, Gender, NumOfProduct, Geography, IsActiveMember and Balance are features that affect churn rate."
   ]
  },
  {
   "cell_type": "markdown",
   "metadata": {},
   "source": [
    "## Part 3: Train Data without Feature Selected - Set 1"
   ]
  },
  {
   "cell_type": "code",
   "execution_count": 25,
   "metadata": {},
   "outputs": [],
   "source": [
    "X0=df.iloc[:,3:-1]\n",
    "X0_c=X0.loc[:,['Geography','Gender','NumOfProducts','HasCrCard','IsActiveMember']]"
   ]
  },
  {
   "cell_type": "markdown",
   "metadata": {},
   "source": [
    "#### Apply OneHotEncoding to Categorical Data: (Geography,Gender,NumOfProducts,HasCrCard,IsActiveMember)"
   ]
  },
  {
   "cell_type": "code",
   "execution_count": 26,
   "metadata": {},
   "outputs": [],
   "source": [
    "X0_c=pd.get_dummies(X0_c)"
   ]
  },
  {
   "cell_type": "code",
   "execution_count": 27,
   "metadata": {},
   "outputs": [],
   "source": [
    "from sklearn.preprocessing import StandardScaler\n",
    "X0_n=X0.loc[:,['CreditScore','Age','Balance','Tenure','EstimatedSalary']]\n",
    "scaler = StandardScaler()\n",
    "X0_n1=scaler.fit_transform(X0_n)"
   ]
  },
  {
   "cell_type": "code",
   "execution_count": 28,
   "metadata": {},
   "outputs": [],
   "source": [
    "X0_n1=pd.DataFrame(X0_n1,columns=['CreditScore','Age','Balance','Tenure','EstimatedSalary'])"
   ]
  },
  {
   "cell_type": "code",
   "execution_count": 29,
   "metadata": {},
   "outputs": [],
   "source": [
    "X=pd.concat([X0_c,X0_n1],axis=1)\n",
    "y=EDA_Data['Exited'].apply(lambda x: 1 if x=='Exit' else 0)"
   ]
  },
  {
   "cell_type": "code",
   "execution_count": 30,
   "metadata": {},
   "outputs": [],
   "source": [
    "from sklearn.model_selection import train_test_split\n",
    "X_train, X_test, y_train, y_test = train_test_split(X, y, test_size=0.2, random_state=42)"
   ]
  },
  {
   "cell_type": "markdown",
   "metadata": {},
   "source": [
    "#### Generating new data by oversampling\n",
    "#### As mentioned before, the data is imbalance, so, we increase the number of samples by SMOTE technique"
   ]
  },
  {
   "cell_type": "code",
   "execution_count": 31,
   "metadata": {},
   "outputs": [],
   "source": [
    "#conda install -c conda-forge imbalanced-learn"
   ]
  },
  {
   "cell_type": "code",
   "execution_count": 32,
   "metadata": {},
   "outputs": [],
   "source": [
    "from imblearn.over_sampling import SMOTE\n",
    "smk = SMOTE()\n",
    "# Oversample training  data\n",
    "X_train, y_train = smk.fit_sample(X_train, y_train)\n",
    "\n",
    "# Oversample validation data\n",
    "X_test, y_test = smk.fit_sample(X_test, y_test)"
   ]
  },
  {
   "cell_type": "code",
   "execution_count": 33,
   "metadata": {},
   "outputs": [
    {
     "name": "stdout",
     "output_type": "stream",
     "text": [
      "1    6356\n",
      "0    6356\n",
      "Name: Exited, dtype: int64 \n",
      " 1    1607\n",
      "0    1607\n",
      "Name: Exited, dtype: int64\n"
     ]
    }
   ],
   "source": [
    "print(y_train.value_counts(),'\\n',y_test.value_counts())"
   ]
  },
  {
   "cell_type": "markdown",
   "metadata": {},
   "source": [
    "#### Start to Train Model"
   ]
  },
  {
   "cell_type": "code",
   "execution_count": 34,
   "metadata": {},
   "outputs": [],
   "source": [
    "Accuracy_Score=[]\n",
    "Recall_Score=[]\n",
    "Precision_Score=[]\n",
    "F1_Score=[]"
   ]
  },
  {
   "cell_type": "markdown",
   "metadata": {},
   "source": [
    "### Logistic Regression"
   ]
  },
  {
   "cell_type": "code",
   "execution_count": 35,
   "metadata": {},
   "outputs": [
    {
     "data": {
      "text/plain": [
       "0.7800248911014313"
      ]
     },
     "execution_count": 35,
     "metadata": {},
     "output_type": "execute_result"
    }
   ],
   "source": [
    "from sklearn.linear_model import LogisticRegression\n",
    "clf = LogisticRegression(random_state=42).fit(X_train, y_train)\n",
    "y_pred=clf.predict(X_test)\n",
    "s1_1_y_pred=y_pred\n",
    "clf.score(X_test, y_test)"
   ]
  },
  {
   "cell_type": "code",
   "execution_count": 36,
   "metadata": {},
   "outputs": [
    {
     "name": "stdout",
     "output_type": "stream",
     "text": [
      " Accuracy Score: 0.780 \n",
      " Recall Score: 0.803 \n",
      " Precision Score: 0.768 \n",
      " F1 Score Score: 0.785\n"
     ]
    }
   ],
   "source": [
    "print(' Accuracy Score: %.3f' % accuracy_score(y_test, y_pred) ,'\\n', \n",
    "      'Recall Score: %.3f' % recall_score(y_test, y_pred) ,'\\n', #True Postive out of Actual Postive\n",
    "      'Precision Score: %.3f' % precision_score(y_test, y_pred) ,'\\n', #True Postive out of Predicted Postive\n",
    "      'F1 Score Score: %.3f' % f1_score(y_test, y_pred) ) #Close to 1 is better; Close to 0 is worse\n",
    "\n",
    "Accuracy_Score.append(accuracy_score(y_test, y_pred))\n",
    "Recall_Score.append(recall_score(y_test, y_pred))\n",
    "Precision_Score.append(precision_score(y_test, y_pred))\n",
    "F1_Score.append(f1_score(y_test, y_pred))"
   ]
  },
  {
   "cell_type": "markdown",
   "metadata": {},
   "source": [
    "### SVC (Support Vector Classifier)"
   ]
  },
  {
   "cell_type": "code",
   "execution_count": 37,
   "metadata": {},
   "outputs": [
    {
     "data": {
      "text/plain": [
       "0.8217174859987555"
      ]
     },
     "execution_count": 37,
     "metadata": {},
     "output_type": "execute_result"
    }
   ],
   "source": [
    "from sklearn.svm import SVC\n",
    "clf = SVC(random_state=42)\n",
    "svc=clf.fit(X_train, y_train)\n",
    "y_pred=svc.predict(X_test)\n",
    "s1_2_y_pred=y_pred\n",
    "svc.score(X_test, y_test)"
   ]
  },
  {
   "cell_type": "code",
   "execution_count": 38,
   "metadata": {},
   "outputs": [
    {
     "name": "stdout",
     "output_type": "stream",
     "text": [
      " Accuracy Score: 0.822 \n",
      " Recall Score: 0.830 \n",
      " Precision Score: 0.816 \n",
      " F1 Score Score: 0.823\n"
     ]
    }
   ],
   "source": [
    "print(' Accuracy Score: %.3f' % accuracy_score(y_test, y_pred) ,'\\n', \n",
    "      'Recall Score: %.3f' % recall_score(y_test, y_pred) ,'\\n', #True Postive out of Actual Postive\n",
    "      'Precision Score: %.3f' % precision_score(y_test, y_pred) ,'\\n', #True Postive out of Predicted Postive\n",
    "      'F1 Score Score: %.3f' % f1_score(y_test, y_pred) ) #Close to 1 is better; Close to 0 is worse\n",
    "\n",
    "Accuracy_Score.append(accuracy_score(y_test, y_pred))\n",
    "Recall_Score.append(recall_score(y_test, y_pred))\n",
    "Precision_Score.append(precision_score(y_test, y_pred))\n",
    "F1_Score.append(f1_score(y_test, y_pred))"
   ]
  },
  {
   "cell_type": "markdown",
   "metadata": {},
   "source": [
    "### Random Forest"
   ]
  },
  {
   "cell_type": "code",
   "execution_count": 39,
   "metadata": {},
   "outputs": [
    {
     "data": {
      "text/plain": [
       "0.8217174859987555"
      ]
     },
     "execution_count": 39,
     "metadata": {},
     "output_type": "execute_result"
    }
   ],
   "source": [
    "from sklearn.ensemble import RandomForestClassifier\n",
    "clf = RandomForestClassifier(random_state=42)\n",
    "clf.fit(X_train, y_train)\n",
    "y_pred=clf.predict(X_test)\n",
    "s1_3_y_pred=y_pred\n",
    "clf.score(X_test, y_test)"
   ]
  },
  {
   "cell_type": "code",
   "execution_count": 40,
   "metadata": {},
   "outputs": [
    {
     "name": "stdout",
     "output_type": "stream",
     "text": [
      " Accuracy Score: 0.822 \n",
      " Recall Score: 0.752 \n",
      " Precision Score: 0.874 \n",
      " F1 Score Score: 0.808\n"
     ]
    }
   ],
   "source": [
    "print(' Accuracy Score: %.3f' % accuracy_score(y_test, y_pred) ,'\\n', \n",
    "      'Recall Score: %.3f' % recall_score(y_test, y_pred) ,'\\n', #True Postive out of Actual Postive\n",
    "      'Precision Score: %.3f' % precision_score(y_test, y_pred) ,'\\n', #True Postive out of Predicted Postive\n",
    "      'F1 Score Score: %.3f' % f1_score(y_test, y_pred) ) #Close to 1 is better; Close to 0 is worse\n",
    "\n",
    "Accuracy_Score.append(accuracy_score(y_test, y_pred))\n",
    "Recall_Score.append(recall_score(y_test, y_pred))\n",
    "Precision_Score.append(precision_score(y_test, y_pred))\n",
    "F1_Score.append(f1_score(y_test, y_pred))"
   ]
  },
  {
   "cell_type": "markdown",
   "metadata": {},
   "source": [
    "### XGBoost"
   ]
  },
  {
   "cell_type": "code",
   "execution_count": 41,
   "metadata": {},
   "outputs": [
    {
     "data": {
      "text/plain": [
       "0.6235220908525202"
      ]
     },
     "execution_count": 41,
     "metadata": {},
     "output_type": "execute_result"
    }
   ],
   "source": [
    "import xgboost as xgb\n",
    "dtrain = xgb.DMatrix(data = X_train, label = y_train) \n",
    "dtest = xgb.DMatrix(data = X_test, label = y_test) \n",
    "# specify parameters via map\n",
    "param = {'max_depth':6, 'eta':0.3, 'objective':'binary:hinge' } #Use default value in the first time\n",
    "num_round = 2\n",
    "bst = xgb.train(param, dtrain, num_round)\n",
    "# make prediction\n",
    "y_pred = bst.predict(dtest)\n",
    "s1_4_y_pred=y_pred\n",
    "accuracy_score(y_test,y_pred)"
   ]
  },
  {
   "cell_type": "code",
   "execution_count": 42,
   "metadata": {},
   "outputs": [
    {
     "name": "stdout",
     "output_type": "stream",
     "text": [
      " Accuracy Score: 0.624 \n",
      " Recall Score: 0.986 \n",
      " Precision Score: 0.572 \n",
      " F1 Score Score: 0.724\n"
     ]
    }
   ],
   "source": [
    "print(' Accuracy Score: %.3f' % accuracy_score(y_test, y_pred) ,'\\n', \n",
    "      'Recall Score: %.3f' % recall_score(y_test, y_pred) ,'\\n', #True Postive out of Actual Postive\n",
    "      'Precision Score: %.3f' % precision_score(y_test, y_pred) ,'\\n', #True Postive out of Predicted Postive\n",
    "      'F1 Score Score: %.3f' % f1_score(y_test, y_pred) ) #Close to 1 is better; Close to 0 is worse\n",
    "\n",
    "Accuracy_Score.append(accuracy_score(y_test, y_pred))\n",
    "Recall_Score.append(recall_score(y_test, y_pred))\n",
    "Precision_Score.append(precision_score(y_test, y_pred))\n",
    "F1_Score.append(f1_score(y_test, y_pred))"
   ]
  },
  {
   "cell_type": "code",
   "execution_count": 43,
   "metadata": {},
   "outputs": [
    {
     "data": {
      "text/html": [
       "<div>\n",
       "<style scoped>\n",
       "    .dataframe tbody tr th:only-of-type {\n",
       "        vertical-align: middle;\n",
       "    }\n",
       "\n",
       "    .dataframe tbody tr th {\n",
       "        vertical-align: top;\n",
       "    }\n",
       "\n",
       "    .dataframe thead th {\n",
       "        text-align: right;\n",
       "    }\n",
       "</style>\n",
       "<table border=\"1\" class=\"dataframe\">\n",
       "  <thead>\n",
       "    <tr style=\"text-align: right;\">\n",
       "      <th></th>\n",
       "      <th>Logistic Reg.</th>\n",
       "      <th>SVC</th>\n",
       "      <th>Random Forest</th>\n",
       "      <th>XGB</th>\n",
       "    </tr>\n",
       "  </thead>\n",
       "  <tbody>\n",
       "    <tr>\n",
       "      <th>Accuracy_Score</th>\n",
       "      <td>0.780025</td>\n",
       "      <td>0.821717</td>\n",
       "      <td>0.821717</td>\n",
       "      <td>0.623522</td>\n",
       "    </tr>\n",
       "    <tr>\n",
       "      <th>Recall_Score</th>\n",
       "      <td>0.802738</td>\n",
       "      <td>0.830118</td>\n",
       "      <td>0.752334</td>\n",
       "      <td>0.985688</td>\n",
       "    </tr>\n",
       "    <tr>\n",
       "      <th>Precision_Score</th>\n",
       "      <td>0.767857</td>\n",
       "      <td>0.816401</td>\n",
       "      <td>0.873555</td>\n",
       "      <td>0.571635</td>\n",
       "    </tr>\n",
       "    <tr>\n",
       "      <th>F1_Score</th>\n",
       "      <td>0.784910</td>\n",
       "      <td>0.823203</td>\n",
       "      <td>0.808425</td>\n",
       "      <td>0.723618</td>\n",
       "    </tr>\n",
       "  </tbody>\n",
       "</table>\n",
       "</div>"
      ],
      "text/plain": [
       "                 Logistic Reg.       SVC  Random Forest       XGB\n",
       "Accuracy_Score        0.780025  0.821717       0.821717  0.623522\n",
       "Recall_Score          0.802738  0.830118       0.752334  0.985688\n",
       "Precision_Score       0.767857  0.816401       0.873555  0.571635\n",
       "F1_Score              0.784910  0.823203       0.808425  0.723618"
      ]
     },
     "execution_count": 43,
     "metadata": {},
     "output_type": "execute_result"
    }
   ],
   "source": [
    "# Set 1 Score:\n",
    "ind_name=['Accuracy_Score','Recall_Score','Precision_Score','F1_Score']\n",
    "summary1=pd.DataFrame(np.vstack((Accuracy_Score,Recall_Score,Precision_Score,F1_Score)),columns=['Logistic Reg.','SVC','Random Forest','XGB'],index=ind_name)\n",
    "summary1"
   ]
  },
  {
   "cell_type": "markdown",
   "metadata": {},
   "source": [
    "## Train Data with Feature Selected (Based on EDA) - Set 2 \n",
    "### [Keep all hyperparameter same as Set 1]"
   ]
  },
  {
   "cell_type": "markdown",
   "metadata": {},
   "source": [
    "### Remove Estimated Salary, Has Credit Card, Credit Score and Tenure refer to EDA\n",
    "### Perform Data Engineering"
   ]
  },
  {
   "cell_type": "code",
   "execution_count": 133,
   "metadata": {},
   "outputs": [],
   "source": [
    "X1=df.iloc[:,3:-1]\n",
    "X1_c=X1.loc[:,['Geography','Gender','NumOfProducts','IsActiveMember']]\n",
    "X1_n=X1.loc[:,['Age','Balance']]"
   ]
  },
  {
   "cell_type": "code",
   "execution_count": 136,
   "metadata": {},
   "outputs": [],
   "source": [
    "def age_gp(a):\n",
    "    if a>=18 and a<30:\n",
    "        return 'Gp1'\n",
    "    elif a>=30 and a<40:\n",
    "        return 'Gp2'\n",
    "    elif a>=40 and a<50:\n",
    "        return 'Gp3'\n",
    "    elif a>=50 and a<60:\n",
    "        return 'Gp4'\n",
    "    elif a>=60 and a<70:\n",
    "        return 'Gp5'\n",
    "    elif a>=70:\n",
    "        return 'Gp6'"
   ]
  },
  {
   "cell_type": "code",
   "execution_count": 137,
   "metadata": {},
   "outputs": [],
   "source": [
    "X1_c['Age_group']=X1_n['Age'].apply(age_gp)"
   ]
  },
  {
   "cell_type": "code",
   "execution_count": 138,
   "metadata": {},
   "outputs": [
    {
     "data": {
      "text/html": [
       "<div>\n",
       "<style scoped>\n",
       "    .dataframe tbody tr th:only-of-type {\n",
       "        vertical-align: middle;\n",
       "    }\n",
       "\n",
       "    .dataframe tbody tr th {\n",
       "        vertical-align: top;\n",
       "    }\n",
       "\n",
       "    .dataframe thead th {\n",
       "        text-align: right;\n",
       "    }\n",
       "</style>\n",
       "<table border=\"1\" class=\"dataframe\">\n",
       "  <thead>\n",
       "    <tr style=\"text-align: right;\">\n",
       "      <th></th>\n",
       "      <th>Geography</th>\n",
       "      <th>Gender</th>\n",
       "      <th>NumOfProducts</th>\n",
       "      <th>IsActiveMember</th>\n",
       "      <th>Age_group</th>\n",
       "    </tr>\n",
       "  </thead>\n",
       "  <tbody>\n",
       "    <tr>\n",
       "      <th>0</th>\n",
       "      <td>France</td>\n",
       "      <td>Female</td>\n",
       "      <td>1</td>\n",
       "      <td>1</td>\n",
       "      <td>Gp3</td>\n",
       "    </tr>\n",
       "    <tr>\n",
       "      <th>1</th>\n",
       "      <td>Spain</td>\n",
       "      <td>Female</td>\n",
       "      <td>1</td>\n",
       "      <td>1</td>\n",
       "      <td>Gp3</td>\n",
       "    </tr>\n",
       "    <tr>\n",
       "      <th>2</th>\n",
       "      <td>France</td>\n",
       "      <td>Female</td>\n",
       "      <td>3</td>\n",
       "      <td>0</td>\n",
       "      <td>Gp3</td>\n",
       "    </tr>\n",
       "  </tbody>\n",
       "</table>\n",
       "</div>"
      ],
      "text/plain": [
       "  Geography  Gender  NumOfProducts  IsActiveMember Age_group\n",
       "0    France  Female              1               1       Gp3\n",
       "1     Spain  Female              1               1       Gp3\n",
       "2    France  Female              3               0       Gp3"
      ]
     },
     "execution_count": 138,
     "metadata": {},
     "output_type": "execute_result"
    }
   ],
   "source": [
    "X1_c.head(3)"
   ]
  },
  {
   "cell_type": "code",
   "execution_count": 139,
   "metadata": {},
   "outputs": [],
   "source": [
    "def balance_gp(a):\n",
    "    if a<=50000:\n",
    "        return 'Gp1'\n",
    "    elif a<=100000:\n",
    "        return 'Gp2'\n",
    "    elif a<=150000:\n",
    "        return 'Gp3'\n",
    "    elif a>150000:\n",
    "        return 'Gp4'"
   ]
  },
  {
   "cell_type": "code",
   "execution_count": 140,
   "metadata": {},
   "outputs": [],
   "source": [
    "X1_c['Balance_Group']=X1_n['Balance'].apply(balance_gp)"
   ]
  },
  {
   "cell_type": "code",
   "execution_count": 143,
   "metadata": {},
   "outputs": [],
   "source": [
    "def NumOfProduct_gp(a):\n",
    "    if a==1:\n",
    "        return 'Gp1'\n",
    "    elif a==2:\n",
    "        return 'Gp2'\n",
    "    elif a>=3:\n",
    "        return 'Gp3'"
   ]
  },
  {
   "cell_type": "code",
   "execution_count": 147,
   "metadata": {},
   "outputs": [],
   "source": [
    "X1_c['NumOfProducts']=X1_c['NumOfProducts'].apply(NumOfProduct_gp)"
   ]
  },
  {
   "cell_type": "code",
   "execution_count": 149,
   "metadata": {},
   "outputs": [],
   "source": [
    "X1_c['IsActiveMember']=X1_c['IsActiveMember'].astype('str')\n",
    "X1_c2=pd.get_dummies(X1_c.iloc[:,0:4])\n",
    "y=EDA_Data['Exited'].apply(lambda x: 1 if x=='Exit' else 0)"
   ]
  },
  {
   "cell_type": "code",
   "execution_count": 150,
   "metadata": {},
   "outputs": [
    {
     "data": {
      "text/html": [
       "<div>\n",
       "<style scoped>\n",
       "    .dataframe tbody tr th:only-of-type {\n",
       "        vertical-align: middle;\n",
       "    }\n",
       "\n",
       "    .dataframe tbody tr th {\n",
       "        vertical-align: top;\n",
       "    }\n",
       "\n",
       "    .dataframe thead th {\n",
       "        text-align: right;\n",
       "    }\n",
       "</style>\n",
       "<table border=\"1\" class=\"dataframe\">\n",
       "  <thead>\n",
       "    <tr style=\"text-align: right;\">\n",
       "      <th></th>\n",
       "      <th>Geography_France</th>\n",
       "      <th>Geography_Germany</th>\n",
       "      <th>Geography_Spain</th>\n",
       "      <th>Gender_Female</th>\n",
       "      <th>Gender_Male</th>\n",
       "      <th>NumOfProducts_Gp1</th>\n",
       "      <th>NumOfProducts_Gp2</th>\n",
       "      <th>NumOfProducts_Gp3</th>\n",
       "      <th>IsActiveMember_0</th>\n",
       "      <th>IsActiveMember_1</th>\n",
       "    </tr>\n",
       "  </thead>\n",
       "  <tbody>\n",
       "    <tr>\n",
       "      <th>0</th>\n",
       "      <td>1</td>\n",
       "      <td>0</td>\n",
       "      <td>0</td>\n",
       "      <td>1</td>\n",
       "      <td>0</td>\n",
       "      <td>1</td>\n",
       "      <td>0</td>\n",
       "      <td>0</td>\n",
       "      <td>0</td>\n",
       "      <td>1</td>\n",
       "    </tr>\n",
       "    <tr>\n",
       "      <th>1</th>\n",
       "      <td>0</td>\n",
       "      <td>0</td>\n",
       "      <td>1</td>\n",
       "      <td>1</td>\n",
       "      <td>0</td>\n",
       "      <td>1</td>\n",
       "      <td>0</td>\n",
       "      <td>0</td>\n",
       "      <td>0</td>\n",
       "      <td>1</td>\n",
       "    </tr>\n",
       "    <tr>\n",
       "      <th>2</th>\n",
       "      <td>1</td>\n",
       "      <td>0</td>\n",
       "      <td>0</td>\n",
       "      <td>1</td>\n",
       "      <td>0</td>\n",
       "      <td>0</td>\n",
       "      <td>0</td>\n",
       "      <td>1</td>\n",
       "      <td>1</td>\n",
       "      <td>0</td>\n",
       "    </tr>\n",
       "    <tr>\n",
       "      <th>3</th>\n",
       "      <td>1</td>\n",
       "      <td>0</td>\n",
       "      <td>0</td>\n",
       "      <td>1</td>\n",
       "      <td>0</td>\n",
       "      <td>0</td>\n",
       "      <td>1</td>\n",
       "      <td>0</td>\n",
       "      <td>1</td>\n",
       "      <td>0</td>\n",
       "    </tr>\n",
       "    <tr>\n",
       "      <th>4</th>\n",
       "      <td>0</td>\n",
       "      <td>0</td>\n",
       "      <td>1</td>\n",
       "      <td>1</td>\n",
       "      <td>0</td>\n",
       "      <td>1</td>\n",
       "      <td>0</td>\n",
       "      <td>0</td>\n",
       "      <td>0</td>\n",
       "      <td>1</td>\n",
       "    </tr>\n",
       "  </tbody>\n",
       "</table>\n",
       "</div>"
      ],
      "text/plain": [
       "   Geography_France  Geography_Germany  Geography_Spain  Gender_Female  \\\n",
       "0                 1                  0                0              1   \n",
       "1                 0                  0                1              1   \n",
       "2                 1                  0                0              1   \n",
       "3                 1                  0                0              1   \n",
       "4                 0                  0                1              1   \n",
       "\n",
       "   Gender_Male  NumOfProducts_Gp1  NumOfProducts_Gp2  NumOfProducts_Gp3  \\\n",
       "0            0                  1                  0                  0   \n",
       "1            0                  1                  0                  0   \n",
       "2            0                  0                  0                  1   \n",
       "3            0                  0                  1                  0   \n",
       "4            0                  1                  0                  0   \n",
       "\n",
       "   IsActiveMember_0  IsActiveMember_1  \n",
       "0                 0                 1  \n",
       "1                 0                 1  \n",
       "2                 1                 0  \n",
       "3                 1                 0  \n",
       "4                 0                 1  "
      ]
     },
     "execution_count": 150,
     "metadata": {},
     "output_type": "execute_result"
    }
   ],
   "source": [
    "X1_c2.head(5)"
   ]
  },
  {
   "cell_type": "code",
   "execution_count": 151,
   "metadata": {},
   "outputs": [
    {
     "data": {
      "text/html": [
       "<div>\n",
       "<style scoped>\n",
       "    .dataframe tbody tr th:only-of-type {\n",
       "        vertical-align: middle;\n",
       "    }\n",
       "\n",
       "    .dataframe tbody tr th {\n",
       "        vertical-align: top;\n",
       "    }\n",
       "\n",
       "    .dataframe thead th {\n",
       "        text-align: right;\n",
       "    }\n",
       "</style>\n",
       "<table border=\"1\" class=\"dataframe\">\n",
       "  <thead>\n",
       "    <tr style=\"text-align: right;\">\n",
       "      <th></th>\n",
       "      <th>Age</th>\n",
       "      <th>Balance</th>\n",
       "    </tr>\n",
       "  </thead>\n",
       "  <tbody>\n",
       "    <tr>\n",
       "      <th>0</th>\n",
       "      <td>42</td>\n",
       "      <td>0.00</td>\n",
       "    </tr>\n",
       "    <tr>\n",
       "      <th>1</th>\n",
       "      <td>41</td>\n",
       "      <td>83807.86</td>\n",
       "    </tr>\n",
       "    <tr>\n",
       "      <th>2</th>\n",
       "      <td>42</td>\n",
       "      <td>159660.80</td>\n",
       "    </tr>\n",
       "    <tr>\n",
       "      <th>3</th>\n",
       "      <td>39</td>\n",
       "      <td>0.00</td>\n",
       "    </tr>\n",
       "    <tr>\n",
       "      <th>4</th>\n",
       "      <td>43</td>\n",
       "      <td>125510.82</td>\n",
       "    </tr>\n",
       "  </tbody>\n",
       "</table>\n",
       "</div>"
      ],
      "text/plain": [
       "   Age    Balance\n",
       "0   42       0.00\n",
       "1   41   83807.86\n",
       "2   42  159660.80\n",
       "3   39       0.00\n",
       "4   43  125510.82"
      ]
     },
     "execution_count": 151,
     "metadata": {},
     "output_type": "execute_result"
    }
   ],
   "source": [
    "X1_n.head(5)"
   ]
  },
  {
   "cell_type": "code",
   "execution_count": 152,
   "metadata": {},
   "outputs": [],
   "source": [
    "from sklearn.preprocessing import MinMaxScaler\n",
    "scaler = MinMaxScaler()\n",
    "X1_n=scaler.fit_transform(X1_n)"
   ]
  },
  {
   "cell_type": "code",
   "execution_count": 153,
   "metadata": {},
   "outputs": [],
   "source": [
    "X1_n=pd.DataFrame(X1_n)\n",
    "X1_c2=pd.concat((X1_n,X1_c2),axis=1)"
   ]
  },
  {
   "cell_type": "code",
   "execution_count": 154,
   "metadata": {},
   "outputs": [],
   "source": [
    "from sklearn.model_selection import train_test_split\n",
    "X_train, X_test, y_train, y_test = train_test_split(X1_c2, y, test_size=0.2, random_state=42)"
   ]
  },
  {
   "cell_type": "markdown",
   "metadata": {},
   "source": [
    "#### Generating new data by oversampling\n",
    "#### Same as before, as the data is imbalance, so, we increase the number of samples by SMOTE technique"
   ]
  },
  {
   "cell_type": "code",
   "execution_count": 156,
   "metadata": {},
   "outputs": [],
   "source": [
    "from imblearn.over_sampling import SMOTE\n",
    "smk = SMOTE()\n",
    "# Oversample training  data\n",
    "X_train, y_train = smk.fit_sample(X_train, y_train)\n",
    "\n",
    "# Oversample validation data\n",
    "X_test, y_test = smk.fit_sample(X_test, y_test)"
   ]
  },
  {
   "cell_type": "code",
   "execution_count": 157,
   "metadata": {},
   "outputs": [
    {
     "name": "stdout",
     "output_type": "stream",
     "text": [
      "1    6356\n",
      "0    6356\n",
      "Name: Exited, dtype: int64 \n",
      " 1    1607\n",
      "0    1607\n",
      "Name: Exited, dtype: int64\n"
     ]
    }
   ],
   "source": [
    "print(y_train.value_counts(),'\\n',y_test.value_counts())"
   ]
  },
  {
   "cell_type": "markdown",
   "metadata": {},
   "source": [
    "#### Start to Train Model"
   ]
  },
  {
   "cell_type": "code",
   "execution_count": 158,
   "metadata": {},
   "outputs": [],
   "source": [
    "Accuracy_Score=[]\n",
    "Recall_Score=[]\n",
    "Precision_Score=[]\n",
    "F1_Score=[]"
   ]
  },
  {
   "cell_type": "markdown",
   "metadata": {},
   "source": [
    "### Logistic Regression"
   ]
  },
  {
   "cell_type": "code",
   "execution_count": 159,
   "metadata": {},
   "outputs": [
    {
     "data": {
      "text/plain": [
       "0.7722464219041693"
      ]
     },
     "execution_count": 159,
     "metadata": {},
     "output_type": "execute_result"
    }
   ],
   "source": [
    "from sklearn.linear_model import LogisticRegression\n",
    "clf = LogisticRegression(random_state=42).fit(X_train, y_train)\n",
    "y_pred=clf.predict(X_test)\n",
    "s2_1_y_pred=y_pred\n",
    "clf.score(X_test, y_test)\n"
   ]
  },
  {
   "cell_type": "code",
   "execution_count": 160,
   "metadata": {},
   "outputs": [
    {
     "name": "stdout",
     "output_type": "stream",
     "text": [
      " Accuracy Score: 0.772 \n",
      " Recall Score: 0.783 \n",
      " Precision Score: 0.766 \n",
      " F1 Score Score: 0.775\n"
     ]
    }
   ],
   "source": [
    "print(' Accuracy Score: %.3f' % accuracy_score(y_test, y_pred) ,'\\n', \n",
    "      'Recall Score: %.3f' % recall_score(y_test, y_pred) ,'\\n', #True Postive out of Actual Postive\n",
    "      'Precision Score: %.3f' % precision_score(y_test, y_pred) ,'\\n', #True Postive out of Predicted Postive\n",
    "      'F1 Score Score: %.3f' % f1_score(y_test, y_pred) ) #Close to 1 is better; Close to 0 is worse\n",
    "\n",
    "Accuracy_Score.append(accuracy_score(y_test, y_pred))\n",
    "Recall_Score.append(recall_score(y_test, y_pred))\n",
    "Precision_Score.append(precision_score(y_test, y_pred))\n",
    "F1_Score.append(f1_score(y_test, y_pred))"
   ]
  },
  {
   "cell_type": "markdown",
   "metadata": {},
   "source": [
    "### SVC (Support Vector Classifier)"
   ]
  },
  {
   "cell_type": "code",
   "execution_count": 161,
   "metadata": {},
   "outputs": [
    {
     "data": {
      "text/plain": [
       "0.7576228998133168"
      ]
     },
     "execution_count": 161,
     "metadata": {},
     "output_type": "execute_result"
    }
   ],
   "source": [
    "from sklearn.svm import SVC\n",
    "clf = SVC(random_state=42)\n",
    "svc=clf.fit(X_train, y_train)\n",
    "y_pred=svc.predict(X_test)\n",
    "s2_2_y_pred=y_pred\n",
    "svc.score(X_test, y_test)"
   ]
  },
  {
   "cell_type": "code",
   "execution_count": 162,
   "metadata": {},
   "outputs": [
    {
     "name": "stdout",
     "output_type": "stream",
     "text": [
      " Accuracy Score: 0.758 \n",
      " Recall Score: 0.765 \n",
      " Precision Score: 0.754 \n",
      " F1 Score Score: 0.759\n"
     ]
    }
   ],
   "source": [
    "print(' Accuracy Score: %.3f' % accuracy_score(y_test, y_pred) ,'\\n', \n",
    "      'Recall Score: %.3f' % recall_score(y_test, y_pred) ,'\\n', #True Postive out of Actual Postive\n",
    "      'Precision Score: %.3f' % precision_score(y_test, y_pred) ,'\\n', #True Postive out of Predicted Postive\n",
    "      'F1 Score Score: %.3f' % f1_score(y_test, y_pred) ) #Close to 1 is better; Close to 0 is worse\n",
    "\n",
    "Accuracy_Score.append(accuracy_score(y_test, y_pred))\n",
    "Recall_Score.append(recall_score(y_test, y_pred))\n",
    "Precision_Score.append(precision_score(y_test, y_pred))\n",
    "F1_Score.append(f1_score(y_test, y_pred))"
   ]
  },
  {
   "cell_type": "markdown",
   "metadata": {},
   "source": [
    "### Random Forest"
   ]
  },
  {
   "cell_type": "code",
   "execution_count": 163,
   "metadata": {},
   "outputs": [
    {
     "data": {
      "text/plain": [
       "0.7890479153702551"
      ]
     },
     "execution_count": 163,
     "metadata": {},
     "output_type": "execute_result"
    }
   ],
   "source": [
    "from sklearn.ensemble import RandomForestClassifier\n",
    "clf = RandomForestClassifier(random_state=42)\n",
    "clf.fit(X_train, y_train)\n",
    "y_pred=clf.predict(X_test)\n",
    "s2_3_y_pred=y_pred\n",
    "clf.score(X_test, y_test)"
   ]
  },
  {
   "cell_type": "code",
   "execution_count": 164,
   "metadata": {},
   "outputs": [
    {
     "name": "stdout",
     "output_type": "stream",
     "text": [
      " Accuracy Score: 0.789 \n",
      " Recall Score: 0.719 \n",
      " Precision Score: 0.836 \n",
      " F1 Score Score: 0.773\n"
     ]
    }
   ],
   "source": [
    "print(' Accuracy Score: %.3f' % accuracy_score(y_test, y_pred) ,'\\n', \n",
    "      'Recall Score: %.3f' % recall_score(y_test, y_pred) ,'\\n', #True Postive out of Actual Postive\n",
    "      'Precision Score: %.3f' % precision_score(y_test, y_pred) ,'\\n', #True Postive out of Predicted Postive\n",
    "      'F1 Score Score: %.3f' % f1_score(y_test, y_pred) ) #Close to 1 is better; Close to 0 is worse\n",
    "\n",
    "Accuracy_Score.append(accuracy_score(y_test, y_pred))\n",
    "Recall_Score.append(recall_score(y_test, y_pred))\n",
    "Precision_Score.append(precision_score(y_test, y_pred))\n",
    "F1_Score.append(f1_score(y_test, y_pred))"
   ]
  },
  {
   "cell_type": "markdown",
   "metadata": {},
   "source": [
    "### XGBoosting"
   ]
  },
  {
   "cell_type": "code",
   "execution_count": 165,
   "metadata": {},
   "outputs": [
    {
     "data": {
      "text/plain": [
       "0.5899191039203485"
      ]
     },
     "execution_count": 165,
     "metadata": {},
     "output_type": "execute_result"
    }
   ],
   "source": [
    "import xgboost as xgb\n",
    "dtrain = xgb.DMatrix(data = X_train, label = y_train) \n",
    "dtest = xgb.DMatrix(data = X_test, label = y_test) \n",
    "# specify parameters via map\n",
    "param = {'max_depth':6, 'eta':0.3, 'objective':'binary:hinge' }\n",
    "num_round = 2\n",
    "bst = xgb.train(param, dtrain, num_round)\n",
    "# make prediction\n",
    "y_pred = bst.predict(dtest)\n",
    "s2_4_y_pred=y_pred\n",
    "accuracy_score(y_test,y_pred)"
   ]
  },
  {
   "cell_type": "code",
   "execution_count": 166,
   "metadata": {},
   "outputs": [
    {
     "name": "stdout",
     "output_type": "stream",
     "text": [
      " Accuracy Score: 0.590 \n",
      " Recall Score: 0.993 \n",
      " Precision Score: 0.550 \n",
      " F1 Score Score: 0.708\n"
     ]
    }
   ],
   "source": [
    "print(' Accuracy Score: %.3f' % accuracy_score(y_test, y_pred) ,'\\n', \n",
    "      'Recall Score: %.3f' % recall_score(y_test, y_pred) ,'\\n', #True Postive out of Actual Postive\n",
    "      'Precision Score: %.3f' % precision_score(y_test, y_pred) ,'\\n', #True Postive out of Predicted Postive\n",
    "      'F1 Score Score: %.3f' % f1_score(y_test, y_pred) ) #Close to 1 is better; Close to 0 is worse\n",
    "\n",
    "Accuracy_Score.append(accuracy_score(y_test, y_pred))\n",
    "Recall_Score.append(recall_score(y_test, y_pred))\n",
    "Precision_Score.append(precision_score(y_test, y_pred))\n",
    "F1_Score.append(f1_score(y_test, y_pred))"
   ]
  },
  {
   "cell_type": "code",
   "execution_count": 167,
   "metadata": {},
   "outputs": [
    {
     "data": {
      "text/html": [
       "<div>\n",
       "<style scoped>\n",
       "    .dataframe tbody tr th:only-of-type {\n",
       "        vertical-align: middle;\n",
       "    }\n",
       "\n",
       "    .dataframe tbody tr th {\n",
       "        vertical-align: top;\n",
       "    }\n",
       "\n",
       "    .dataframe thead th {\n",
       "        text-align: right;\n",
       "    }\n",
       "</style>\n",
       "<table border=\"1\" class=\"dataframe\">\n",
       "  <thead>\n",
       "    <tr style=\"text-align: right;\">\n",
       "      <th></th>\n",
       "      <th>Logistic Reg.</th>\n",
       "      <th>SVC</th>\n",
       "      <th>Random Forest</th>\n",
       "      <th>XGB</th>\n",
       "    </tr>\n",
       "  </thead>\n",
       "  <tbody>\n",
       "    <tr>\n",
       "      <th>Accuracy_Score</th>\n",
       "      <td>0.772246</td>\n",
       "      <td>0.757623</td>\n",
       "      <td>0.789048</td>\n",
       "      <td>0.589919</td>\n",
       "    </tr>\n",
       "    <tr>\n",
       "      <th>Recall_Score</th>\n",
       "      <td>0.783447</td>\n",
       "      <td>0.765401</td>\n",
       "      <td>0.719353</td>\n",
       "      <td>0.993155</td>\n",
       "    </tr>\n",
       "    <tr>\n",
       "      <th>Precision_Score</th>\n",
       "      <td>0.766281</td>\n",
       "      <td>0.753676</td>\n",
       "      <td>0.835864</td>\n",
       "      <td>0.549776</td>\n",
       "    </tr>\n",
       "    <tr>\n",
       "      <th>F1_Score</th>\n",
       "      <td>0.774769</td>\n",
       "      <td>0.759494</td>\n",
       "      <td>0.773244</td>\n",
       "      <td>0.707761</td>\n",
       "    </tr>\n",
       "  </tbody>\n",
       "</table>\n",
       "</div>"
      ],
      "text/plain": [
       "                 Logistic Reg.       SVC  Random Forest       XGB\n",
       "Accuracy_Score        0.772246  0.757623       0.789048  0.589919\n",
       "Recall_Score          0.783447  0.765401       0.719353  0.993155\n",
       "Precision_Score       0.766281  0.753676       0.835864  0.549776\n",
       "F1_Score              0.774769  0.759494       0.773244  0.707761"
      ]
     },
     "execution_count": 167,
     "metadata": {},
     "output_type": "execute_result"
    }
   ],
   "source": [
    "# Set 2 Score:\n",
    "ind_name=['Accuracy_Score','Recall_Score','Precision_Score','F1_Score']\n",
    "summary2=pd.DataFrame(np.vstack((Accuracy_Score,Recall_Score,Precision_Score,F1_Score)),columns=['Logistic Reg.','SVC','Random Forest','XGB'],index=ind_name)\n",
    "summary2"
   ]
  },
  {
   "cell_type": "code",
   "execution_count": 168,
   "metadata": {},
   "outputs": [
    {
     "data": {
      "text/html": [
       "<div>\n",
       "<style scoped>\n",
       "    .dataframe tbody tr th:only-of-type {\n",
       "        vertical-align: middle;\n",
       "    }\n",
       "\n",
       "    .dataframe tbody tr th {\n",
       "        vertical-align: top;\n",
       "    }\n",
       "\n",
       "    .dataframe thead th {\n",
       "        text-align: right;\n",
       "    }\n",
       "</style>\n",
       "<table border=\"1\" class=\"dataframe\">\n",
       "  <thead>\n",
       "    <tr style=\"text-align: right;\">\n",
       "      <th></th>\n",
       "      <th>Logistic Reg.</th>\n",
       "      <th>SVC</th>\n",
       "      <th>Random Forest</th>\n",
       "      <th>XGB</th>\n",
       "    </tr>\n",
       "  </thead>\n",
       "  <tbody>\n",
       "    <tr>\n",
       "      <th>Accuracy_Score</th>\n",
       "      <td>0.780025</td>\n",
       "      <td>0.821717</td>\n",
       "      <td>0.821717</td>\n",
       "      <td>0.623522</td>\n",
       "    </tr>\n",
       "    <tr>\n",
       "      <th>Recall_Score</th>\n",
       "      <td>0.802738</td>\n",
       "      <td>0.830118</td>\n",
       "      <td>0.752334</td>\n",
       "      <td>0.985688</td>\n",
       "    </tr>\n",
       "    <tr>\n",
       "      <th>Precision_Score</th>\n",
       "      <td>0.767857</td>\n",
       "      <td>0.816401</td>\n",
       "      <td>0.873555</td>\n",
       "      <td>0.571635</td>\n",
       "    </tr>\n",
       "    <tr>\n",
       "      <th>F1_Score</th>\n",
       "      <td>0.784910</td>\n",
       "      <td>0.823203</td>\n",
       "      <td>0.808425</td>\n",
       "      <td>0.723618</td>\n",
       "    </tr>\n",
       "  </tbody>\n",
       "</table>\n",
       "</div>"
      ],
      "text/plain": [
       "                 Logistic Reg.       SVC  Random Forest       XGB\n",
       "Accuracy_Score        0.780025  0.821717       0.821717  0.623522\n",
       "Recall_Score          0.802738  0.830118       0.752334  0.985688\n",
       "Precision_Score       0.767857  0.816401       0.873555  0.571635\n",
       "F1_Score              0.784910  0.823203       0.808425  0.723618"
      ]
     },
     "execution_count": 168,
     "metadata": {},
     "output_type": "execute_result"
    }
   ],
   "source": [
    "summary1"
   ]
  },
  {
   "cell_type": "code",
   "execution_count": 169,
   "metadata": {},
   "outputs": [
    {
     "data": {
      "image/png": "[encoded data removed]",
      "text/plain": [
       "<Figure size 432x288 with 1 Axes>"
      ]
     },
     "metadata": {
      "needs_background": "light"
     },
     "output_type": "display_data"
    }
   ],
   "source": [
    "import sklearn.metrics as metrics\n",
    "# calculate the fpr and tpr for all thresholds of the classification\n",
    "probs = clf.predict_proba(X_test)\n",
    "preds = probs[:,1]\n",
    "\n",
    "\n",
    "fpr11, tpr11, threshold = metrics.roc_curve(y_test, s1_1_y_pred)\n",
    "roc_auc11 = metrics.auc(fpr11, tpr11)\n",
    "fpr12, tpr12, threshold = metrics.roc_curve(y_test, s1_2_y_pred)\n",
    "roc_auc12 = metrics.auc(fpr12, tpr12)\n",
    "fpr13, tpr13, threshold = metrics.roc_curve(y_test, s1_3_y_pred)\n",
    "roc_auc13 = metrics.auc(fpr13, tpr13)\n",
    "fpr14, tpr14, threshold = metrics.roc_curve(y_test, s1_4_y_pred)\n",
    "roc_auc14 = metrics.auc(fpr14, tpr14)\n",
    "\n",
    "\n",
    "# method I: plt\n",
    "import matplotlib.pyplot as plt\n",
    "plt.title('Set 1 Model AUC-ROC')\n",
    "plt.plot(fpr11, tpr11, 'b', label = 'AUC = %0.2f logistic' % roc_auc11)\n",
    "plt.plot(fpr12, tpr12, 'r', label = 'AUC = %0.2f svc' % roc_auc12)\n",
    "plt.plot(fpr13, tpr13, 'y', label = 'AUC = %0.2f RF' % roc_auc13)\n",
    "plt.plot(fpr14, tpr14, 'g', label = 'AUC = %0.2f XGB' % roc_auc14)\n",
    "\n",
    "plt.legend(loc = 'lower right')\n",
    "plt.plot([0, 1], [0, 1],'r--')\n",
    "plt.xlim([0, 1])\n",
    "plt.ylim([0, 1])\n",
    "plt.ylabel('True Positive Rate')\n",
    "plt.xlabel('False Positive Rate')\n",
    "plt.show()"
   ]
  },
  {
   "cell_type": "code",
   "execution_count": 170,
   "metadata": {},
   "outputs": [
    {
     "data": {
      "image/png": "[encoded data removed]",
      "text/plain": [
       "<Figure size 432x288 with 1 Axes>"
      ]
     },
     "metadata": {
      "needs_background": "light"
     },
     "output_type": "display_data"
    }
   ],
   "source": [
    "import sklearn.metrics as metrics\n",
    "# calculate the fpr and tpr for all thresholds of the classification\n",
    "probs = clf.predict_proba(X_test)\n",
    "preds = probs[:,1]\n",
    "\n",
    "\n",
    "fpr21, tpr21, threshold = metrics.roc_curve(y_test, s2_1_y_pred)\n",
    "roc_auc21 = metrics.auc(fpr21, tpr21)\n",
    "fpr22, tpr22, threshold = metrics.roc_curve(y_test, s2_2_y_pred)\n",
    "roc_auc22 = metrics.auc(fpr22, tpr22)\n",
    "fpr23, tpr23, threshold = metrics.roc_curve(y_test, s2_3_y_pred)\n",
    "roc_auc23 = metrics.auc(fpr23, tpr23)\n",
    "fpr24, tpr24, threshold = metrics.roc_curve(y_test, s2_4_y_pred)\n",
    "roc_auc24 = metrics.auc(fpr24, tpr24)\n",
    "\n",
    "\n",
    "# method I: plt\n",
    "import matplotlib.pyplot as plt\n",
    "plt.title('Set 2 Model AUC-ROC')\n",
    "plt.plot(fpr11, tpr21, 'b', label = 'AUC = %0.2f logistic' % roc_auc21)\n",
    "plt.plot(fpr12, tpr22, 'r', label = 'AUC = %0.2f svm' % roc_auc22)\n",
    "plt.plot(fpr13, tpr23, 'y', label = 'AUC = %0.2f RF' % roc_auc23)\n",
    "plt.plot(fpr14, tpr24, 'g', label = 'AUC = %0.2f XGB' % roc_auc24)\n",
    "\n",
    "plt.legend(loc = 'lower right')\n",
    "plt.plot([0, 1], [0, 1],'r--')\n",
    "plt.xlim([0, 1])\n",
    "plt.ylim([0, 1])\n",
    "plt.ylabel('True Positive Rate')\n",
    "plt.xlabel('False Positive Rate')\n",
    "plt.show()"
   ]
  },
  {
   "cell_type": "code",
   "execution_count": 171,
   "metadata": {},
   "outputs": [
    {
     "data": {
      "text/html": [
       "<div>\n",
       "<style scoped>\n",
       "    .dataframe tbody tr th:only-of-type {\n",
       "        vertical-align: middle;\n",
       "    }\n",
       "\n",
       "    .dataframe tbody tr th {\n",
       "        vertical-align: top;\n",
       "    }\n",
       "\n",
       "    .dataframe thead th {\n",
       "        text-align: right;\n",
       "    }\n",
       "</style>\n",
       "<table border=\"1\" class=\"dataframe\">\n",
       "  <thead>\n",
       "    <tr style=\"text-align: right;\">\n",
       "      <th></th>\n",
       "      <th>Logistic Reg.</th>\n",
       "      <th>SVC</th>\n",
       "      <th>Random Forest</th>\n",
       "      <th>XGB</th>\n",
       "    </tr>\n",
       "  </thead>\n",
       "  <tbody>\n",
       "    <tr>\n",
       "      <th>Accuracy_Score</th>\n",
       "      <td>0.780025</td>\n",
       "      <td>0.821717</td>\n",
       "      <td>0.821717</td>\n",
       "      <td>0.623522</td>\n",
       "    </tr>\n",
       "    <tr>\n",
       "      <th>Recall_Score</th>\n",
       "      <td>0.802738</td>\n",
       "      <td>0.830118</td>\n",
       "      <td>0.752334</td>\n",
       "      <td>0.985688</td>\n",
       "    </tr>\n",
       "    <tr>\n",
       "      <th>Precision_Score</th>\n",
       "      <td>0.767857</td>\n",
       "      <td>0.816401</td>\n",
       "      <td>0.873555</td>\n",
       "      <td>0.571635</td>\n",
       "    </tr>\n",
       "    <tr>\n",
       "      <th>F1_Score</th>\n",
       "      <td>0.784910</td>\n",
       "      <td>0.823203</td>\n",
       "      <td>0.808425</td>\n",
       "      <td>0.723618</td>\n",
       "    </tr>\n",
       "  </tbody>\n",
       "</table>\n",
       "</div>"
      ],
      "text/plain": [
       "                 Logistic Reg.       SVC  Random Forest       XGB\n",
       "Accuracy_Score        0.780025  0.821717       0.821717  0.623522\n",
       "Recall_Score          0.802738  0.830118       0.752334  0.985688\n",
       "Precision_Score       0.767857  0.816401       0.873555  0.571635\n",
       "F1_Score              0.784910  0.823203       0.808425  0.723618"
      ]
     },
     "execution_count": 171,
     "metadata": {},
     "output_type": "execute_result"
    }
   ],
   "source": [
    "summary1"
   ]
  },
  {
   "cell_type": "code",
   "execution_count": 172,
   "metadata": {},
   "outputs": [
    {
     "data": {
      "text/html": [
       "<div>\n",
       "<style scoped>\n",
       "    .dataframe tbody tr th:only-of-type {\n",
       "        vertical-align: middle;\n",
       "    }\n",
       "\n",
       "    .dataframe tbody tr th {\n",
       "        vertical-align: top;\n",
       "    }\n",
       "\n",
       "    .dataframe thead th {\n",
       "        text-align: right;\n",
       "    }\n",
       "</style>\n",
       "<table border=\"1\" class=\"dataframe\">\n",
       "  <thead>\n",
       "    <tr style=\"text-align: right;\">\n",
       "      <th></th>\n",
       "      <th>Logistic Reg.</th>\n",
       "      <th>SVC</th>\n",
       "      <th>Random Forest</th>\n",
       "      <th>XGB</th>\n",
       "    </tr>\n",
       "  </thead>\n",
       "  <tbody>\n",
       "    <tr>\n",
       "      <th>Accuracy_Score</th>\n",
       "      <td>0.772246</td>\n",
       "      <td>0.757623</td>\n",
       "      <td>0.789048</td>\n",
       "      <td>0.589919</td>\n",
       "    </tr>\n",
       "    <tr>\n",
       "      <th>Recall_Score</th>\n",
       "      <td>0.783447</td>\n",
       "      <td>0.765401</td>\n",
       "      <td>0.719353</td>\n",
       "      <td>0.993155</td>\n",
       "    </tr>\n",
       "    <tr>\n",
       "      <th>Precision_Score</th>\n",
       "      <td>0.766281</td>\n",
       "      <td>0.753676</td>\n",
       "      <td>0.835864</td>\n",
       "      <td>0.549776</td>\n",
       "    </tr>\n",
       "    <tr>\n",
       "      <th>F1_Score</th>\n",
       "      <td>0.774769</td>\n",
       "      <td>0.759494</td>\n",
       "      <td>0.773244</td>\n",
       "      <td>0.707761</td>\n",
       "    </tr>\n",
       "  </tbody>\n",
       "</table>\n",
       "</div>"
      ],
      "text/plain": [
       "                 Logistic Reg.       SVC  Random Forest       XGB\n",
       "Accuracy_Score        0.772246  0.757623       0.789048  0.589919\n",
       "Recall_Score          0.783447  0.765401       0.719353  0.993155\n",
       "Precision_Score       0.766281  0.753676       0.835864  0.549776\n",
       "F1_Score              0.774769  0.759494       0.773244  0.707761"
      ]
     },
     "execution_count": 172,
     "metadata": {},
     "output_type": "execute_result"
    }
   ],
   "source": [
    "summary2"
   ]
  },
  {
   "cell_type": "markdown",
   "metadata": {},
   "source": [
    "#### We can see that the best model among Set 1 and Set 2 is 'Random Forest in Set 1'\n",
    "#### All Models have higher score in Set 1 than Set 2\n",
    "#### However, for building a Churn Model, it is more important to predict customer who will leave correctly rather than the overall accuracy of the model.\n",
    "#### Let's think carefully: \n",
    "#### For Type I error, which is the error to predict the customer who exit, but actually he/she doesn't. \n",
    "#### For Type II error, which is the error to predict the customer who not exist, but actually he/she does.\n",
    "#### Which error is more serious? It should be Type II error.\n",
    "#### For Type I error case, if we predict wrongly, we may waste cost/resource to retain a customer who actually will stay.\n",
    "#### For Type II error case, if we predict wrongly, we may take no action to the customer and the customer will therefore leave.\n",
    "#### Therefore, Recall Score is much more important than Accuracy Score.\n",
    "#### Before select which model to be used, let's fine tune our model!"
   ]
  },
  {
   "cell_type": "markdown",
   "metadata": {},
   "source": [
    "## Hyperparameter Tuning - Set 1\n",
    "I will try to fine tune the Hyperparameter and hope to obtain a better Accuracy and Recall Rate:"
   ]
  },
  {
   "cell_type": "code",
   "execution_count": 190,
   "metadata": {},
   "outputs": [],
   "source": [
    "from sklearn.model_selection import GridSearchCV"
   ]
  },
  {
   "cell_type": "code",
   "execution_count": 191,
   "metadata": {},
   "outputs": [],
   "source": [
    "X=pd.concat([X0_c,X0_n1],axis=1)\n",
    "y=EDA_Data['Exited'].apply(lambda x: 1 if x=='Exit' else 0)"
   ]
  },
  {
   "cell_type": "code",
   "execution_count": 192,
   "metadata": {},
   "outputs": [],
   "source": [
    "from sklearn.model_selection import train_test_split\n",
    "X_train, X_test, y_train, y_test = train_test_split(X, y, test_size=0.2, random_state=42)"
   ]
  },
  {
   "cell_type": "code",
   "execution_count": 193,
   "metadata": {},
   "outputs": [],
   "source": [
    "from imblearn.over_sampling import SMOTE\n",
    "smk = SMOTE()\n",
    "# Oversample training  data\n",
    "X_train, y_train = smk.fit_sample(X_train, y_train)\n",
    "\n",
    "# Oversample validation data\n",
    "X_test, y_test = smk.fit_sample(X_test, y_test)"
   ]
  },
  {
   "cell_type": "code",
   "execution_count": 194,
   "metadata": {},
   "outputs": [
    {
     "data": {
      "text/html": [
       "<div>\n",
       "<style scoped>\n",
       "    .dataframe tbody tr th:only-of-type {\n",
       "        vertical-align: middle;\n",
       "    }\n",
       "\n",
       "    .dataframe tbody tr th {\n",
       "        vertical-align: top;\n",
       "    }\n",
       "\n",
       "    .dataframe thead th {\n",
       "        text-align: right;\n",
       "    }\n",
       "</style>\n",
       "<table border=\"1\" class=\"dataframe\">\n",
       "  <thead>\n",
       "    <tr style=\"text-align: right;\">\n",
       "      <th></th>\n",
       "      <th>Exited</th>\n",
       "    </tr>\n",
       "    <tr>\n",
       "      <th>Exited</th>\n",
       "      <th></th>\n",
       "    </tr>\n",
       "  </thead>\n",
       "  <tbody>\n",
       "    <tr>\n",
       "      <th>0</th>\n",
       "      <td>6356</td>\n",
       "    </tr>\n",
       "    <tr>\n",
       "      <th>1</th>\n",
       "      <td>6356</td>\n",
       "    </tr>\n",
       "  </tbody>\n",
       "</table>\n",
       "</div>"
      ],
      "text/plain": [
       "        Exited\n",
       "Exited        \n",
       "0         6356\n",
       "1         6356"
      ]
     },
     "execution_count": 194,
     "metadata": {},
     "output_type": "execute_result"
    }
   ],
   "source": [
    "pd.DataFrame(y_train).groupby('Exited').agg({'Exited':'count'})"
   ]
  },
  {
   "cell_type": "code",
   "execution_count": 195,
   "metadata": {},
   "outputs": [],
   "source": [
    "Accuracy_Score=[]\n",
    "Recall_Score=[]\n",
    "Precision_Score=[]\n",
    "F1_Score=[]"
   ]
  },
  {
   "cell_type": "markdown",
   "metadata": {},
   "source": [
    "### Logistic Regression"
   ]
  },
  {
   "cell_type": "code",
   "execution_count": 196,
   "metadata": {},
   "outputs": [
    {
     "name": "stdout",
     "output_type": "stream",
     "text": [
      " Accuracy Score: 0.778 \n",
      " Recall Score: 0.805 \n",
      " Precision Score: 0.765 \n",
      " F1 Score Score: 0.784\n"
     ]
    }
   ],
   "source": [
    "from sklearn.linear_model import LogisticRegression\n",
    "\n",
    "clf =  LogisticRegression(random_state=42)\n",
    "param_grid = [\n",
    "    {'C':[0.01,0.1,1,10]}]\n",
    "     #'max_iter':[100,150,200,1000]}]\n",
    "    #{'solver': ['newton-cg','sag','lbfgs' ],'penalty':['l2']}] \n",
    "    #{'solver': ['liblinear','saga'],'penalty':['l1']}]\n",
    "search = GridSearchCV(clf, param_grid,scoring='accuracy',cv=5)\n",
    "lr=search.fit(X_train, y_train)\n",
    "\n",
    "lr=clf.fit(X_train, y_train)\n",
    "y_pred=lr.predict(X_test)\n",
    "lr.score(X_test, y_test) \n",
    "\n",
    "print(' Accuracy Score: %.3f' % accuracy_score(y_test, y_pred) ,'\\n', \n",
    "      'Recall Score: %.3f' % recall_score(y_test, y_pred) ,'\\n', #True Postive out of Actual Postive\n",
    "      'Precision Score: %.3f' % precision_score(y_test, y_pred) ,'\\n', #True Postive out of Predicted Postive\n",
    "      'F1 Score Score: %.3f' % f1_score(y_test, y_pred) ) #Close to 1 is better; Close to 0 is worse\n",
    "\n",
    "Accuracy_Score.append(accuracy_score(y_test, y_pred))\n",
    "Recall_Score.append(recall_score(y_test, y_pred))\n",
    "Precision_Score.append(precision_score(y_test, y_pred))\n",
    "F1_Score.append(f1_score(y_test, y_pred))\n",
    "\n",
    "#search.cv_results_\n"
   ]
  },
  {
   "cell_type": "code",
   "execution_count": 197,
   "metadata": {},
   "outputs": [
    {
     "name": "stdout",
     "output_type": "stream",
     "text": [
      " Accuracy Score: 0.773 \n",
      " Recall Score: 0.800 \n",
      " Precision Score: 0.760 \n",
      " F1 Score Score: 0.779\n"
     ]
    }
   ],
   "source": [
    "from sklearn.linear_model import LogisticRegression\n",
    "\n",
    "clf =  LogisticRegression(random_state=42)\n",
    "\n",
    "param_grid = [\n",
    "    {'C':[0.01,0.1,1,10]}]\n",
    "  #{'solver': ['newton-cg','sag','lbfgs' ],'penalty':['l2']}]\n",
    "  #{'solver': ['liblinear','saga'],'penalty':['l1']}]\n",
    "search = GridSearchCV(clf, param_grid,scoring='recall', cv=5)\n",
    "lr=search.fit(X_train, y_train)\n",
    "\n",
    "#lr=clf.fit(X_train, y_train)\n",
    "y_pred=lr.predict(X_test)\n",
    "lr.score(X_test, y_test) \n",
    "\n",
    "print(' Accuracy Score: %.3f' % accuracy_score(y_test, y_pred) ,'\\n', \n",
    "      'Recall Score: %.3f' % recall_score(y_test, y_pred) ,'\\n', #True Postive out of Actual Postive\n",
    "      'Precision Score: %.3f' % precision_score(y_test, y_pred) ,'\\n', #True Postive out of Predicted Postive\n",
    "      'F1 Score Score: %.3f' % f1_score(y_test, y_pred) ) #Close to 1 is better; Close to 0 is worse\n",
    "\n",
    "Accuracy_Score.append(accuracy_score(y_test, y_pred))\n",
    "Recall_Score.append(recall_score(y_test, y_pred))\n",
    "Precision_Score.append(precision_score(y_test, y_pred))\n",
    "F1_Score.append(f1_score(y_test, y_pred))\n",
    "\n",
    "#search.cv_results_"
   ]
  },
  {
   "cell_type": "markdown",
   "metadata": {},
   "source": [
    "### SVC (Support Vector Classifier)"
   ]
  },
  {
   "cell_type": "code",
   "execution_count": 198,
   "metadata": {},
   "outputs": [
    {
     "name": "stdout",
     "output_type": "stream",
     "text": [
      " Accuracy Score: 0.823 \n",
      " Recall Score: 0.818 \n",
      " Precision Score: 0.826 \n",
      " F1 Score Score: 0.822\n"
     ]
    }
   ],
   "source": [
    "from sklearn.svm import SVC\n",
    "clf = SVC(random_state=42, kernel='rbf')\n",
    "\n",
    "param_grid = [\n",
    "  {'C': [0.01,0.1,1,10]}]\n",
    "\n",
    "search = GridSearchCV(clf, param_grid,scoring='accuracy', cv=5)\n",
    "svc=search.fit(X_train, y_train)\n",
    "y_pred=svc.predict(X_test)\n",
    "svc.score(X_test, y_test) \n",
    "\n",
    "print(' Accuracy Score: %.3f' % accuracy_score(y_test, y_pred) ,'\\n', \n",
    "      'Recall Score: %.3f' % recall_score(y_test, y_pred) ,'\\n', #True Postive out of Actual Postive\n",
    "      'Precision Score: %.3f' % precision_score(y_test, y_pred) ,'\\n', #True Postive out of Predicted Postive\n",
    "      'F1 Score Score: %.3f' % f1_score(y_test, y_pred) ) #Close to 1 is better; Close to 0 is worse\n",
    "\n",
    "Accuracy_Score.append(accuracy_score(y_test, y_pred))\n",
    "Recall_Score.append(recall_score(y_test, y_pred))\n",
    "Precision_Score.append(precision_score(y_test, y_pred))\n",
    "F1_Score.append(f1_score(y_test, y_pred))\n",
    "#search.cv_results_"
   ]
  },
  {
   "cell_type": "code",
   "execution_count": 199,
   "metadata": {},
   "outputs": [
    {
     "name": "stdout",
     "output_type": "stream",
     "text": [
      " Accuracy Score: 0.823 \n",
      " Recall Score: 0.818 \n",
      " Precision Score: 0.826 \n",
      " F1 Score Score: 0.822\n"
     ]
    }
   ],
   "source": [
    "from sklearn.svm import SVC\n",
    "clf = SVC(random_state=42, kernel='rbf')\n",
    "\n",
    "param_grid = [\n",
    "  {'C': [0.01,0.1,1,10],\n",
    "   'gamma':['scale', 'auto']}]\n",
    "\n",
    "search = GridSearchCV(clf, param_grid,scoring='recall', cv=5)\n",
    "svc=search.fit(X_train, y_train)\n",
    "y_pred=svc.predict(X_test)\n",
    "svc.score(X_test, y_test)\n",
    "\n",
    "print(' Accuracy Score: %.3f' % accuracy_score(y_test, y_pred) ,'\\n', \n",
    "      'Recall Score: %.3f' % recall_score(y_test, y_pred) ,'\\n', #True Postive out of Actual Postive\n",
    "      'Precision Score: %.3f' % precision_score(y_test, y_pred) ,'\\n', #True Postive out of Predicted Postive\n",
    "      'F1 Score Score: %.3f' % f1_score(y_test, y_pred) ) #Close to 1 is better; Close to 0 is worse\n",
    "\n",
    "Accuracy_Score.append(accuracy_score(y_test, y_pred))\n",
    "Recall_Score.append(recall_score(y_test, y_pred))\n",
    "Precision_Score.append(precision_score(y_test, y_pred))\n",
    "F1_Score.append(f1_score(y_test, y_pred))\n",
    "#search.cv_results_"
   ]
  },
  {
   "cell_type": "markdown",
   "metadata": {},
   "source": [
    "### Random Forest"
   ]
  },
  {
   "cell_type": "code",
   "execution_count": 200,
   "metadata": {},
   "outputs": [
    {
     "name": "stdout",
     "output_type": "stream",
     "text": [
      " Accuracy Score: 0.834 \n",
      " Recall Score: 0.777 \n",
      " Precision Score: 0.878 \n",
      " F1 Score Score: 0.824\n"
     ]
    }
   ],
   "source": [
    "from sklearn.ensemble import RandomForestClassifier\n",
    "clf = RandomForestClassifier(random_state=42)\n",
    "param_grid = [\n",
    "  {'n_estimators' : [140,150,160,170,180,190,200]}]\n",
    "\n",
    "search = GridSearchCV(clf, param_grid,scoring='accuracy', cv=5)\n",
    "clf=search.fit(X_train, y_train)\n",
    "y_pred=clf.predict(X_test)\n",
    "\n",
    "clf.score(X_test, y_test)\n",
    "print(' Accuracy Score: %.3f' % accuracy_score(y_test, y_pred) ,'\\n', \n",
    "      'Recall Score: %.3f' % recall_score(y_test, y_pred) ,'\\n', #True Postive out of Actual Postive\n",
    "      'Precision Score: %.3f' % precision_score(y_test, y_pred) ,'\\n', #True Postive out of Predicted Postive\n",
    "      'F1 Score Score: %.3f' % f1_score(y_test, y_pred) ) #Close to 1 is better; Close to 0 is worse\n",
    "\n",
    "Accuracy_Score.append(accuracy_score(y_test, y_pred))\n",
    "Recall_Score.append(recall_score(y_test, y_pred))\n",
    "Precision_Score.append(precision_score(y_test, y_pred))\n",
    "F1_Score.append(f1_score(y_test, y_pred))\n",
    "#search.cv_results_  "
   ]
  },
  {
   "cell_type": "code",
   "execution_count": 201,
   "metadata": {},
   "outputs": [
    {
     "name": "stdout",
     "output_type": "stream",
     "text": [
      " Accuracy Score: 0.834 \n",
      " Recall Score: 0.777 \n",
      " Precision Score: 0.878 \n",
      " F1 Score Score: 0.824\n"
     ]
    }
   ],
   "source": [
    "from sklearn.ensemble import RandomForestClassifier\n",
    "clf = RandomForestClassifier(random_state=42)\n",
    "param_grid = [\n",
    "  {'n_estimators' : [140,150,160,170,180,190,200]}]\n",
    "\n",
    "search = GridSearchCV(clf, param_grid, scoring='recall', cv=5)\n",
    "clf=search.fit(X_train, y_train)\n",
    "y_pred=clf.predict(X_test)\n",
    "\n",
    "clf.score(X_test, y_test)\n",
    "print(' Accuracy Score: %.3f' % accuracy_score(y_test, y_pred) ,'\\n', \n",
    "      'Recall Score: %.3f' % recall_score(y_test, y_pred) ,'\\n', #True Postive out of Actual Postive\n",
    "      'Precision Score: %.3f' % precision_score(y_test, y_pred) ,'\\n', #True Postive out of Predicted Postive\n",
    "      'F1 Score Score: %.3f' % f1_score(y_test, y_pred) ) #Close to 1 is better; Close to 0 is worse\n",
    "\n",
    "Accuracy_Score.append(accuracy_score(y_test, y_pred))\n",
    "Recall_Score.append(recall_score(y_test, y_pred))\n",
    "Precision_Score.append(precision_score(y_test, y_pred))\n",
    "F1_Score.append(f1_score(y_test, y_pred))\n",
    "#search.cv_results_ "
   ]
  },
  {
   "cell_type": "markdown",
   "metadata": {},
   "source": [
    "### XGBoost"
   ]
  },
  {
   "cell_type": "code",
   "execution_count": 202,
   "metadata": {},
   "outputs": [
    {
     "name": "stdout",
     "output_type": "stream",
     "text": [
      " Accuracy Score: 0.871 \n",
      " Recall Score: 0.871 \n",
      " Precision Score: 0.871 \n",
      " F1 Score Score: 0.871\n"
     ]
    }
   ],
   "source": [
    "import xgboost as xgb\n",
    "dtrain = xgb.DMatrix(data = X_train, label = y_train) \n",
    "dtest = xgb.DMatrix(data = X_test, label = y_test) \n",
    "# specify parameters via map\n",
    "param = {'max_depth':4, 'eta':0.6, 'objective':'binary:hinge'}\n",
    "num_round = 20\n",
    "bst = xgb.train(param, dtrain, num_round)\n",
    "# make prediction\n",
    "y_pred = bst.predict(dtest)\n",
    "accuracy_score(y_test,y_pred)\n",
    "\n",
    "print(' Accuracy Score: %.3f' % accuracy_score(y_test, y_pred) ,'\\n', \n",
    "      'Recall Score: %.3f' % recall_score(y_test, y_pred) ,'\\n', #True Postive out of Actual Postive\n",
    "      'Precision Score: %.3f' % precision_score(y_test, y_pred) ,'\\n', #True Postive out of Predicted Postive\n",
    "      'F1 Score Score: %.3f' % f1_score(y_test, y_pred) ) #Close to 1 is better; Close to 0 is worse\n",
    "\n",
    "Accuracy_Score.append(accuracy_score(y_test, y_pred))\n",
    "Recall_Score.append(recall_score(y_test, y_pred))\n",
    "Precision_Score.append(precision_score(y_test, y_pred))\n",
    "F1_Score.append(f1_score(y_test, y_pred))"
   ]
  },
  {
   "cell_type": "code",
   "execution_count": 203,
   "metadata": {},
   "outputs": [
    {
     "data": {
      "text/html": [
       "<div>\n",
       "<style scoped>\n",
       "    .dataframe tbody tr th:only-of-type {\n",
       "        vertical-align: middle;\n",
       "    }\n",
       "\n",
       "    .dataframe tbody tr th {\n",
       "        vertical-align: top;\n",
       "    }\n",
       "\n",
       "    .dataframe thead th {\n",
       "        text-align: right;\n",
       "    }\n",
       "</style>\n",
       "<table border=\"1\" class=\"dataframe\">\n",
       "  <thead>\n",
       "    <tr style=\"text-align: right;\">\n",
       "      <th></th>\n",
       "      <th>Logistic Reg.(Accuracy)</th>\n",
       "      <th>Logistic Reg.(Recall)</th>\n",
       "      <th>SVC (Accuracy)</th>\n",
       "      <th>SVC (Recall)</th>\n",
       "      <th>Random Forest (Accuracy)</th>\n",
       "      <th>Random Forest (Recall)</th>\n",
       "      <th>XGB</th>\n",
       "    </tr>\n",
       "  </thead>\n",
       "  <tbody>\n",
       "    <tr>\n",
       "      <th>Accuracy_Score</th>\n",
       "      <td>0.778469</td>\n",
       "      <td>0.773491</td>\n",
       "      <td>0.822651</td>\n",
       "      <td>0.822651</td>\n",
       "      <td>0.834474</td>\n",
       "      <td>0.834474</td>\n",
       "      <td>0.870566</td>\n",
       "    </tr>\n",
       "    <tr>\n",
       "      <th>Recall_Score</th>\n",
       "      <td>0.804605</td>\n",
       "      <td>0.800249</td>\n",
       "      <td>0.817673</td>\n",
       "      <td>0.817673</td>\n",
       "      <td>0.777225</td>\n",
       "      <td>0.777225</td>\n",
       "      <td>0.870566</td>\n",
       "    </tr>\n",
       "    <tr>\n",
       "      <th>Precision_Score</th>\n",
       "      <td>0.764636</td>\n",
       "      <td>0.759598</td>\n",
       "      <td>0.825896</td>\n",
       "      <td>0.825896</td>\n",
       "      <td>0.877723</td>\n",
       "      <td>0.877723</td>\n",
       "      <td>0.870566</td>\n",
       "    </tr>\n",
       "    <tr>\n",
       "      <th>F1_Score</th>\n",
       "      <td>0.784112</td>\n",
       "      <td>0.779394</td>\n",
       "      <td>0.821764</td>\n",
       "      <td>0.821764</td>\n",
       "      <td>0.824422</td>\n",
       "      <td>0.824422</td>\n",
       "      <td>0.870566</td>\n",
       "    </tr>\n",
       "  </tbody>\n",
       "</table>\n",
       "</div>"
      ],
      "text/plain": [
       "                 Logistic Reg.(Accuracy)  Logistic Reg.(Recall)  \\\n",
       "Accuracy_Score                  0.778469               0.773491   \n",
       "Recall_Score                    0.804605               0.800249   \n",
       "Precision_Score                 0.764636               0.759598   \n",
       "F1_Score                        0.784112               0.779394   \n",
       "\n",
       "                 SVC (Accuracy)  SVC (Recall)  Random Forest (Accuracy)  \\\n",
       "Accuracy_Score         0.822651      0.822651                  0.834474   \n",
       "Recall_Score           0.817673      0.817673                  0.777225   \n",
       "Precision_Score        0.825896      0.825896                  0.877723   \n",
       "F1_Score               0.821764      0.821764                  0.824422   \n",
       "\n",
       "                 Random Forest (Recall)       XGB  \n",
       "Accuracy_Score                 0.834474  0.870566  \n",
       "Recall_Score                   0.777225  0.870566  \n",
       "Precision_Score                0.877723  0.870566  \n",
       "F1_Score                       0.824422  0.870566  "
      ]
     },
     "execution_count": 203,
     "metadata": {},
     "output_type": "execute_result"
    }
   ],
   "source": [
    "# Set 3 Score:\n",
    "ind_name=['Accuracy_Score','Recall_Score','Precision_Score','F1_Score']\n",
    "summary3=pd.DataFrame(np.vstack((Accuracy_Score,Recall_Score,Precision_Score,F1_Score)),\n",
    "                      columns=['Logistic Reg.(Accuracy)','Logistic Reg.(Recall)',\n",
    "                               'SVC (Accuracy)','SVC (Recall)',\n",
    "                               'Random Forest (Accuracy)','Random Forest (Recall)'\n",
    "                               ,'XGB'],index=ind_name)\n",
    "summary3"
   ]
  },
  {
   "cell_type": "code",
   "execution_count": 204,
   "metadata": {},
   "outputs": [
    {
     "data": {
      "text/html": [
       "<div>\n",
       "<style scoped>\n",
       "    .dataframe tbody tr th:only-of-type {\n",
       "        vertical-align: middle;\n",
       "    }\n",
       "\n",
       "    .dataframe tbody tr th {\n",
       "        vertical-align: top;\n",
       "    }\n",
       "\n",
       "    .dataframe thead th {\n",
       "        text-align: right;\n",
       "    }\n",
       "</style>\n",
       "<table border=\"1\" class=\"dataframe\">\n",
       "  <thead>\n",
       "    <tr style=\"text-align: right;\">\n",
       "      <th></th>\n",
       "      <th>Logistic Reg.</th>\n",
       "      <th>SVC</th>\n",
       "      <th>Random Forest</th>\n",
       "      <th>XGB</th>\n",
       "    </tr>\n",
       "  </thead>\n",
       "  <tbody>\n",
       "    <tr>\n",
       "      <th>Accuracy_Score</th>\n",
       "      <td>0.780025</td>\n",
       "      <td>0.821717</td>\n",
       "      <td>0.821717</td>\n",
       "      <td>0.623522</td>\n",
       "    </tr>\n",
       "    <tr>\n",
       "      <th>Recall_Score</th>\n",
       "      <td>0.802738</td>\n",
       "      <td>0.830118</td>\n",
       "      <td>0.752334</td>\n",
       "      <td>0.985688</td>\n",
       "    </tr>\n",
       "    <tr>\n",
       "      <th>Precision_Score</th>\n",
       "      <td>0.767857</td>\n",
       "      <td>0.816401</td>\n",
       "      <td>0.873555</td>\n",
       "      <td>0.571635</td>\n",
       "    </tr>\n",
       "    <tr>\n",
       "      <th>F1_Score</th>\n",
       "      <td>0.784910</td>\n",
       "      <td>0.823203</td>\n",
       "      <td>0.808425</td>\n",
       "      <td>0.723618</td>\n",
       "    </tr>\n",
       "  </tbody>\n",
       "</table>\n",
       "</div>"
      ],
      "text/plain": [
       "                 Logistic Reg.       SVC  Random Forest       XGB\n",
       "Accuracy_Score        0.780025  0.821717       0.821717  0.623522\n",
       "Recall_Score          0.802738  0.830118       0.752334  0.985688\n",
       "Precision_Score       0.767857  0.816401       0.873555  0.571635\n",
       "F1_Score              0.784910  0.823203       0.808425  0.723618"
      ]
     },
     "execution_count": 204,
     "metadata": {},
     "output_type": "execute_result"
    }
   ],
   "source": [
    "summary1"
   ]
  },
  {
   "cell_type": "code",
   "execution_count": 205,
   "metadata": {},
   "outputs": [
    {
     "data": {
      "text/html": [
       "<div>\n",
       "<style scoped>\n",
       "    .dataframe tbody tr th:only-of-type {\n",
       "        vertical-align: middle;\n",
       "    }\n",
       "\n",
       "    .dataframe tbody tr th {\n",
       "        vertical-align: top;\n",
       "    }\n",
       "\n",
       "    .dataframe thead th {\n",
       "        text-align: right;\n",
       "    }\n",
       "</style>\n",
       "<table border=\"1\" class=\"dataframe\">\n",
       "  <thead>\n",
       "    <tr style=\"text-align: right;\">\n",
       "      <th></th>\n",
       "      <th>Logistic Reg.</th>\n",
       "      <th>SVC</th>\n",
       "      <th>Random Forest</th>\n",
       "      <th>XGB</th>\n",
       "    </tr>\n",
       "  </thead>\n",
       "  <tbody>\n",
       "    <tr>\n",
       "      <th>Accuracy_Score</th>\n",
       "      <td>0.772246</td>\n",
       "      <td>0.757623</td>\n",
       "      <td>0.789048</td>\n",
       "      <td>0.589919</td>\n",
       "    </tr>\n",
       "    <tr>\n",
       "      <th>Recall_Score</th>\n",
       "      <td>0.783447</td>\n",
       "      <td>0.765401</td>\n",
       "      <td>0.719353</td>\n",
       "      <td>0.993155</td>\n",
       "    </tr>\n",
       "    <tr>\n",
       "      <th>Precision_Score</th>\n",
       "      <td>0.766281</td>\n",
       "      <td>0.753676</td>\n",
       "      <td>0.835864</td>\n",
       "      <td>0.549776</td>\n",
       "    </tr>\n",
       "    <tr>\n",
       "      <th>F1_Score</th>\n",
       "      <td>0.774769</td>\n",
       "      <td>0.759494</td>\n",
       "      <td>0.773244</td>\n",
       "      <td>0.707761</td>\n",
       "    </tr>\n",
       "  </tbody>\n",
       "</table>\n",
       "</div>"
      ],
      "text/plain": [
       "                 Logistic Reg.       SVC  Random Forest       XGB\n",
       "Accuracy_Score        0.772246  0.757623       0.789048  0.589919\n",
       "Recall_Score          0.783447  0.765401       0.719353  0.993155\n",
       "Precision_Score       0.766281  0.753676       0.835864  0.549776\n",
       "F1_Score              0.774769  0.759494       0.773244  0.707761"
      ]
     },
     "execution_count": 205,
     "metadata": {},
     "output_type": "execute_result"
    }
   ],
   "source": [
    "summary2"
   ]
  },
  {
   "cell_type": "markdown",
   "metadata": {},
   "source": [
    "## Hyperparameter Tuning - Set 2\n",
    "Also, I will try to fine tune the Hyperparameter and hope to obtain a better Accuracy and Recall Rate:"
   ]
  },
  {
   "cell_type": "code",
   "execution_count": 212,
   "metadata": {},
   "outputs": [
    {
     "data": {
      "text/html": [
       "<div>\n",
       "<style scoped>\n",
       "    .dataframe tbody tr th:only-of-type {\n",
       "        vertical-align: middle;\n",
       "    }\n",
       "\n",
       "    .dataframe tbody tr th {\n",
       "        vertical-align: top;\n",
       "    }\n",
       "\n",
       "    .dataframe thead th {\n",
       "        text-align: right;\n",
       "    }\n",
       "</style>\n",
       "<table border=\"1\" class=\"dataframe\">\n",
       "  <thead>\n",
       "    <tr style=\"text-align: right;\">\n",
       "      <th></th>\n",
       "      <th>0</th>\n",
       "      <th>1</th>\n",
       "      <th>Geography_France</th>\n",
       "      <th>Geography_Germany</th>\n",
       "      <th>Geography_Spain</th>\n",
       "      <th>Gender_Female</th>\n",
       "      <th>Gender_Male</th>\n",
       "      <th>NumOfProducts_Gp1</th>\n",
       "      <th>NumOfProducts_Gp2</th>\n",
       "      <th>NumOfProducts_Gp3</th>\n",
       "      <th>IsActiveMember_0</th>\n",
       "      <th>IsActiveMember_1</th>\n",
       "    </tr>\n",
       "  </thead>\n",
       "  <tbody>\n",
       "    <tr>\n",
       "      <th>0</th>\n",
       "      <td>0.324324</td>\n",
       "      <td>0.000000</td>\n",
       "      <td>1</td>\n",
       "      <td>0</td>\n",
       "      <td>0</td>\n",
       "      <td>1</td>\n",
       "      <td>0</td>\n",
       "      <td>1</td>\n",
       "      <td>0</td>\n",
       "      <td>0</td>\n",
       "      <td>0</td>\n",
       "      <td>1</td>\n",
       "    </tr>\n",
       "    <tr>\n",
       "      <th>1</th>\n",
       "      <td>0.310811</td>\n",
       "      <td>0.334031</td>\n",
       "      <td>0</td>\n",
       "      <td>0</td>\n",
       "      <td>1</td>\n",
       "      <td>1</td>\n",
       "      <td>0</td>\n",
       "      <td>1</td>\n",
       "      <td>0</td>\n",
       "      <td>0</td>\n",
       "      <td>0</td>\n",
       "      <td>1</td>\n",
       "    </tr>\n",
       "  </tbody>\n",
       "</table>\n",
       "</div>"
      ],
      "text/plain": [
       "          0         1  Geography_France  Geography_Germany  Geography_Spain  \\\n",
       "0  0.324324  0.000000                 1                  0                0   \n",
       "1  0.310811  0.334031                 0                  0                1   \n",
       "\n",
       "   Gender_Female  Gender_Male  NumOfProducts_Gp1  NumOfProducts_Gp2  \\\n",
       "0              1            0                  1                  0   \n",
       "1              1            0                  1                  0   \n",
       "\n",
       "   NumOfProducts_Gp3  IsActiveMember_0  IsActiveMember_1  \n",
       "0                  0                 0                 1  \n",
       "1                  0                 0                 1  "
      ]
     },
     "execution_count": 212,
     "metadata": {},
     "output_type": "execute_result"
    }
   ],
   "source": [
    "X1_c2.head(2)"
   ]
  },
  {
   "cell_type": "code",
   "execution_count": 213,
   "metadata": {},
   "outputs": [],
   "source": [
    "#X1_c2=pd.get_dummies(X1_c)\n",
    "y=EDA_Data['Exited'].apply(lambda x: 1 if x=='Exit' else 0)"
   ]
  },
  {
   "cell_type": "code",
   "execution_count": 214,
   "metadata": {},
   "outputs": [],
   "source": [
    "from sklearn.model_selection import train_test_split\n",
    "X_train, X_test, y_train, y_test = train_test_split(X1_c2, y, test_size=0.2, random_state=42)"
   ]
  },
  {
   "cell_type": "code",
   "execution_count": 215,
   "metadata": {},
   "outputs": [],
   "source": [
    "from imblearn.over_sampling import SMOTE\n",
    "smk = SMOTE()\n",
    "# Oversample training  data\n",
    "X_train, y_train = smk.fit_sample(X_train, y_train)\n",
    "\n",
    "# Oversample validation data\n",
    "X_test, y_test = smk.fit_sample(X_test, y_test)"
   ]
  },
  {
   "cell_type": "code",
   "execution_count": 216,
   "metadata": {},
   "outputs": [
    {
     "data": {
      "text/html": [
       "<div>\n",
       "<style scoped>\n",
       "    .dataframe tbody tr th:only-of-type {\n",
       "        vertical-align: middle;\n",
       "    }\n",
       "\n",
       "    .dataframe tbody tr th {\n",
       "        vertical-align: top;\n",
       "    }\n",
       "\n",
       "    .dataframe thead th {\n",
       "        text-align: right;\n",
       "    }\n",
       "</style>\n",
       "<table border=\"1\" class=\"dataframe\">\n",
       "  <thead>\n",
       "    <tr style=\"text-align: right;\">\n",
       "      <th></th>\n",
       "      <th>Exited</th>\n",
       "    </tr>\n",
       "    <tr>\n",
       "      <th>Exited</th>\n",
       "      <th></th>\n",
       "    </tr>\n",
       "  </thead>\n",
       "  <tbody>\n",
       "    <tr>\n",
       "      <th>0</th>\n",
       "      <td>6356</td>\n",
       "    </tr>\n",
       "    <tr>\n",
       "      <th>1</th>\n",
       "      <td>6356</td>\n",
       "    </tr>\n",
       "  </tbody>\n",
       "</table>\n",
       "</div>"
      ],
      "text/plain": [
       "        Exited\n",
       "Exited        \n",
       "0         6356\n",
       "1         6356"
      ]
     },
     "execution_count": 216,
     "metadata": {},
     "output_type": "execute_result"
    }
   ],
   "source": [
    "pd.DataFrame(y_train).groupby('Exited').agg({'Exited':'count'})"
   ]
  },
  {
   "cell_type": "code",
   "execution_count": 264,
   "metadata": {},
   "outputs": [],
   "source": [
    "Accuracy_Score=[]\n",
    "Recall_Score=[]\n",
    "Precision_Score=[]\n",
    "F1_Score=[]"
   ]
  },
  {
   "cell_type": "markdown",
   "metadata": {},
   "source": [
    "### Logistic Regression"
   ]
  },
  {
   "cell_type": "code",
   "execution_count": 265,
   "metadata": {},
   "outputs": [
    {
     "name": "stdout",
     "output_type": "stream",
     "text": [
      " Accuracy Score: 0.770 \n",
      " Recall Score: 0.776 \n",
      " Precision Score: 0.767 \n",
      " F1 Score Score: 0.771\n"
     ]
    }
   ],
   "source": [
    "from sklearn.linear_model import LogisticRegression\n",
    "clf = LogisticRegression(random_state=42)\n",
    "\n",
    "\n",
    "param_grid = [\n",
    "    {'C':[5,10],'max_iter':[100,1000]}]\n",
    "  #{'C':[0.1,1,10],'max_iter':[1000,10000]}]\n",
    "  #{'solver': ['newton-cg','sag','lbfgs'],'C':[0.1,1,10],'max_iter':[1000,10000]}] \n",
    "  #{'solver': ['newton-cg','sag','lbfgs' ],'penalty':['l2'],'C':[0.1,1,10],'max_iter':[1000,10000]}] #1\n",
    "  #{'solver': ['liblinear','saga'],'penalty':['l1'],'max_iter':[1000,10000]}]\n",
    "search = GridSearchCV(clf, param_grid, scoring='accuracy', cv=5)\n",
    "\n",
    "\n",
    "lr=search.fit(X_train, y_train)\n",
    "y_pred=lr.predict(X_test)\n",
    "lr.score(X_test, y_test) \n",
    "\n",
    "print(' Accuracy Score: %.3f' % accuracy_score(y_test, y_pred) ,'\\n', \n",
    "      'Recall Score: %.3f' % recall_score(y_test, y_pred) ,'\\n', #True Postive out of Actual Postive\n",
    "      'Precision Score: %.3f' % precision_score(y_test, y_pred) ,'\\n', #True Postive out of Predicted Postive\n",
    "      'F1 Score Score: %.3f' % f1_score(y_test, y_pred) ) #Close to 1 is better; Close to 0 is worse\n",
    "\n",
    "Accuracy_Score.append(accuracy_score(y_test, y_pred))\n",
    "Recall_Score.append(recall_score(y_test, y_pred))\n",
    "Precision_Score.append(precision_score(y_test, y_pred))\n",
    "F1_Score.append(f1_score(y_test, y_pred))\n",
    "#search.cv_results_  #(No much Change)"
   ]
  },
  {
   "cell_type": "code",
   "execution_count": 266,
   "metadata": {},
   "outputs": [
    {
     "name": "stdout",
     "output_type": "stream",
     "text": [
      " Accuracy Score: 0.769 \n",
      " Recall Score: 0.772 \n",
      " Precision Score: 0.767 \n",
      " F1 Score Score: 0.769\n"
     ]
    }
   ],
   "source": [
    "from sklearn.linear_model import LogisticRegression\n",
    "clf = LogisticRegression(random_state=42)\n",
    "\n",
    "param_grid = [\n",
    "    #{'C':[0.1,1,10],'max_iter':[1000,10000]}]\n",
    "  #{'solver': ['newton-cg','sag','lbfgs' ],'C':[0.1,1,10],'max_iter':[1000,10000]}] \n",
    "  #{'solver': ['newton-cg','sag','lbfgs' ],'penalty':['l2'],'C':[0.1,1,10],'max_iter':[1000,10000]}]\n",
    "  {'solver': ['liblinear','saga'],'penalty':['l1'],'C':[0.1,1,10],'max_iter':[1000,10000]}]\n",
    "search = GridSearchCV(clf, param_grid, scoring='recall', cv=5)\n",
    "\n",
    "\n",
    "lr=search.fit(X_train, y_train)\n",
    "y_pred=lr.predict(X_test)\n",
    "lr.score(X_test, y_test) \n",
    "\n",
    "print(' Accuracy Score: %.3f' % accuracy_score(y_test, y_pred) ,'\\n', \n",
    "      'Recall Score: %.3f' % recall_score(y_test, y_pred) ,'\\n', #True Postive out of Actual Postive\n",
    "      'Precision Score: %.3f' % precision_score(y_test, y_pred) ,'\\n', #True Postive out of Predicted Postive\n",
    "      'F1 Score Score: %.3f' % f1_score(y_test, y_pred) ) #Close to 1 is better; Close to 0 is worse\n",
    "\n",
    "Accuracy_Score.append(accuracy_score(y_test, y_pred))\n",
    "Recall_Score.append(recall_score(y_test, y_pred))\n",
    "Precision_Score.append(precision_score(y_test, y_pred))\n",
    "F1_Score.append(f1_score(y_test, y_pred))\n",
    "#search.cv_results_  (No much Change)"
   ]
  },
  {
   "cell_type": "markdown",
   "metadata": {},
   "source": [
    "### SVC (Support Vector Classifier)"
   ]
  },
  {
   "cell_type": "code",
   "execution_count": 267,
   "metadata": {},
   "outputs": [
    {
     "name": "stdout",
     "output_type": "stream",
     "text": [
      " Accuracy Score: 0.780 \n",
      " Recall Score: 0.773 \n",
      " Precision Score: 0.785 \n",
      " F1 Score Score: 0.779\n"
     ]
    }
   ],
   "source": [
    "from sklearn.svm import SVC\n",
    "\n",
    "clf = SVC(random_state=42)#,C=1,kernel='rbf',gamma='scale')\n",
    "\n",
    "\n",
    "param_grid = [\n",
    "    {'C': [0.01,0.1,1,10]}]    \n",
    "   #{'C': [0.01,0.1,1,10], 'kernel': ['rbf'],'gamma':['scale','auto']}]\n",
    "\n",
    "search = GridSearchCV(clf, param_grid, scoring='accuracy', cv=5)\n",
    "svc=search.fit(X_train, y_train)\n",
    "y_pred=svc.predict(X_test)\n",
    "\n",
    "\n",
    "#svc=clf.fit(X_train, y_train)\n",
    "#y_pred=svc.predict(X_test)\n",
    "#s2_2_y_pred=y_pred\n",
    "\n",
    "svc.score(X_test, y_test)\n",
    "print(' Accuracy Score: %.3f' % accuracy_score(y_test, y_pred) ,'\\n', \n",
    "      'Recall Score: %.3f' % recall_score(y_test, y_pred) ,'\\n', #True Postive out of Actual Postive\n",
    "      'Precision Score: %.3f' % precision_score(y_test, y_pred) ,'\\n', #True Postive out of Predicted Postive\n",
    "      'F1 Score Score: %.3f' % f1_score(y_test, y_pred) ) #Close to 1 is better; Close to 0 is worse\n",
    "\n",
    "Accuracy_Score.append(accuracy_score(y_test, y_pred))\n",
    "Recall_Score.append(recall_score(y_test, y_pred))\n",
    "Precision_Score.append(precision_score(y_test, y_pred))\n",
    "F1_Score.append(f1_score(y_test, y_pred))\n",
    "#search.cv_results_ "
   ]
  },
  {
   "cell_type": "code",
   "execution_count": 268,
   "metadata": {},
   "outputs": [
    {
     "name": "stdout",
     "output_type": "stream",
     "text": [
      " Accuracy Score: 0.674 \n",
      " Recall Score: 0.829 \n",
      " Precision Score: 0.632 \n",
      " F1 Score Score: 0.717\n"
     ]
    }
   ],
   "source": [
    "from sklearn.svm import SVC\n",
    "\n",
    "clf = SVC(random_state=42)#,C=1,kernel='rbf',gamma='scale')\n",
    "\n",
    "\n",
    "param_grid = [\n",
    "  #{'C': [0.01,0.1,1,10]}]    \n",
    "  {'C': [0.01,0.1,1,10], 'kernel': ['rbf'],'gamma':['scale','auto']}]\n",
    "\n",
    "search = GridSearchCV(clf, param_grid, scoring='recall', cv=5)\n",
    "\n",
    "svc=search.fit(X_train, y_train)\n",
    "y_pred=svc.predict(X_test)\n",
    "\n",
    "\n",
    "#svc=clf.fit(X_train, y_train)\n",
    "#y_pred=svc.predict(X_test)\n",
    "#s2_2_y_pred=y_pred\n",
    "\n",
    "svc.score(X_test, y_test)\n",
    "print(' Accuracy Score: %.3f' % accuracy_score(y_test, y_pred) ,'\\n', \n",
    "      'Recall Score: %.3f' % recall_score(y_test, y_pred) ,'\\n', #True Postive out of Actual Postive\n",
    "      'Precision Score: %.3f' % precision_score(y_test, y_pred) ,'\\n', #True Postive out of Predicted Postive\n",
    "      'F1 Score Score: %.3f' % f1_score(y_test, y_pred) ) #Close to 1 is better; Close to 0 is worse\n",
    "\n",
    "Accuracy_Score.append(accuracy_score(y_test, y_pred))\n",
    "Recall_Score.append(recall_score(y_test, y_pred))\n",
    "Precision_Score.append(precision_score(y_test, y_pred))\n",
    "F1_Score.append(f1_score(y_test, y_pred))\n",
    "#search.cv_results_ "
   ]
  },
  {
   "cell_type": "markdown",
   "metadata": {},
   "source": [
    "### Random Forest"
   ]
  },
  {
   "cell_type": "code",
   "execution_count": 269,
   "metadata": {},
   "outputs": [
    {
     "name": "stdout",
     "output_type": "stream",
     "text": [
      " Accuracy Score: 0.818 \n",
      " Recall Score: 0.802 \n",
      " Precision Score: 0.829 \n",
      " F1 Score Score: 0.815\n"
     ]
    }
   ],
   "source": [
    "from sklearn.ensemble import RandomForestClassifier\n",
    "\n",
    "clf = RandomForestClassifier(random_state=42)\n",
    "param_grid = [\n",
    "  #{'n_estimators' : [100,150,200],'max_depth':[5,10,15]}]\n",
    "  {'n_estimators' : [100,110,120,130,140,150],'max_depth':[5,6,7,8,9,10]}]\n",
    "  #{'n_estimators' : [100,110,120,130,140,150],'max_depth':[9,10]}]\n",
    "  #{'n_estimators' : [110,111,112,113,114,115,116,117,118,119],'max_depth':[5,10,15]}]\n",
    "    #{'n_estimators' : [117,118,119],'max_depth':[9,10,11],'criterion':['gini','entropy']}]\n",
    "search = GridSearchCV(clf, param_grid, scoring='accuracy', cv=5)\n",
    "clf=search.fit(X_train, y_train)\n",
    "y_pred=clf.predict(X_test)\n",
    "\n",
    "#clf.fit(X_train, y_train)\n",
    "#y_pred=clf.predict(X_test)\n",
    "clf.score(X_test, y_test)\n",
    "\n",
    "print(' Accuracy Score: %.3f' % accuracy_score(y_test, y_pred) ,'\\n', \n",
    "      'Recall Score: %.3f' % recall_score(y_test, y_pred) ,'\\n', #True Postive out of Actual Postive\n",
    "      'Precision Score: %.3f' % precision_score(y_test, y_pred) ,'\\n', #True Postive out of Predicted Postive\n",
    "      'F1 Score Score: %.3f' % f1_score(y_test, y_pred) ) #Close to 1 is better; Close to 0 is worse\n",
    "\n",
    "Accuracy_Score.append(accuracy_score(y_test, y_pred))\n",
    "Recall_Score.append(recall_score(y_test, y_pred))\n",
    "Precision_Score.append(precision_score(y_test, y_pred))\n",
    "F1_Score.append(f1_score(y_test, y_pred))\n",
    "\n",
    "#search.cv_results_"
   ]
  },
  {
   "cell_type": "code",
   "execution_count": 270,
   "metadata": {},
   "outputs": [
    {
     "name": "stdout",
     "output_type": "stream",
     "text": [
      " Accuracy Score: 0.801 \n",
      " Recall Score: 0.744 \n",
      " Precision Score: 0.840 \n",
      " F1 Score Score: 0.789\n"
     ]
    }
   ],
   "source": [
    "from sklearn.ensemble import RandomForestClassifier\n",
    "\n",
    "clf = RandomForestClassifier(random_state=42)\n",
    "param_grid = [\n",
    "  #{'n_estimators' : [100,150,200],'max_depth':[5,10,15]}]\n",
    "  #{'n_estimators' : [90,100,110,190,200,210],'max_depth':[14,15,16]}]\n",
    "  {'n_estimators' : [100,105,110],'max_depth':[14],'criterion': ['entropy', 'gini'],'max_features': ['auto','sqrt']}]\n",
    "  #{'n_estimators' : [100,110,120,130,140,150],'max_depth':[5,6,7,8,9,10]}]\n",
    "  #{'n_estimators' : [100,110,120,130,140,150],'max_depth':[9,10]}]\n",
    "  #{'n_estimators' : [105,106,107,108,109,110,111,112,113,114,115,116,117,118,119],'max_depth':[9,10,11]}]\n",
    "  #{'n_estimators' : [108,109],'max_depth':[9]}]\n",
    "search = GridSearchCV(clf, param_grid, scoring='recall', cv=5)\n",
    "clf=search.fit(X_train, y_train)\n",
    "y_pred=clf.predict(X_test)\n",
    "\n",
    "#clf.fit(X_train, y_train)\n",
    "#y_pred=clf.predict(X_test)\n",
    "clf.score(X_test, y_test)\n",
    "\n",
    "print(' Accuracy Score: %.3f' % accuracy_score(y_test, y_pred) ,'\\n', \n",
    "      'Recall Score: %.3f' % recall_score(y_test, y_pred) ,'\\n', #True Postive out of Actual Postive\n",
    "      'Precision Score: %.3f' % precision_score(y_test, y_pred) ,'\\n', #True Postive out of Predicted Postive\n",
    "      'F1 Score Score: %.3f' % f1_score(y_test, y_pred) ) #Close to 1 is better; Close to 0 is worse\n",
    "\n",
    "Accuracy_Score.append(accuracy_score(y_test, y_pred))\n",
    "Recall_Score.append(recall_score(y_test, y_pred))\n",
    "Precision_Score.append(precision_score(y_test, y_pred))\n",
    "F1_Score.append(f1_score(y_test, y_pred))\n",
    "\n",
    "#search.cv_results_"
   ]
  },
  {
   "cell_type": "markdown",
   "metadata": {},
   "source": [
    "### XGBoost"
   ]
  },
  {
   "cell_type": "code",
   "execution_count": 271,
   "metadata": {},
   "outputs": [
    {
     "name": "stdout",
     "output_type": "stream",
     "text": [
      " Accuracy Score: 0.895 \n",
      " Recall Score: 0.866 \n",
      " Precision Score: 0.921 \n",
      " F1 Score Score: 0.892\n"
     ]
    }
   ],
   "source": [
    "#scale_pos_weight=sum(negative instances) / sum(positive instances)\n",
    "import xgboost as xgb\n",
    "dtrain = xgb.DMatrix(data = X_train, label = y_train) \n",
    "dtest = xgb.DMatrix(data = X_test, label = y_test) \n",
    "# specify parameters via map\n",
    "#param = {'max_depth':5, 'eta':0.07,'objective':'binary:hinge'}\n",
    "num_round = 500\n",
    "bst = xgb.train(param, dtrain, num_round)\n",
    "# make prediction\n",
    "y_pred = bst.predict(dtest)\n",
    "accuracy_score(y_test,y_pred)\n",
    "\n",
    "print(' Accuracy Score: %.3f' % accuracy_score(y_test, y_pred) ,'\\n', \n",
    "      'Recall Score: %.3f' % recall_score(y_test, y_pred) ,'\\n', #True Postive out of Actual Postive\n",
    "      'Precision Score: %.3f' % precision_score(y_test, y_pred) ,'\\n', #True Postive out of Predicted Postive\n",
    "      'F1 Score Score: %.3f' % f1_score(y_test, y_pred) ) #Close to 1 is better; Close to 0 is worse\n",
    "\n",
    "Accuracy_Score.append(accuracy_score(y_test, y_pred))\n",
    "Recall_Score.append(recall_score(y_test, y_pred))\n",
    "Precision_Score.append(precision_score(y_test, y_pred))\n",
    "F1_Score.append(f1_score(y_test, y_pred))"
   ]
  },
  {
   "cell_type": "code",
   "execution_count": 272,
   "metadata": {},
   "outputs": [
    {
     "data": {
      "text/html": [
       "<div>\n",
       "<style scoped>\n",
       "    .dataframe tbody tr th:only-of-type {\n",
       "        vertical-align: middle;\n",
       "    }\n",
       "\n",
       "    .dataframe tbody tr th {\n",
       "        vertical-align: top;\n",
       "    }\n",
       "\n",
       "    .dataframe thead th {\n",
       "        text-align: right;\n",
       "    }\n",
       "</style>\n",
       "<table border=\"1\" class=\"dataframe\">\n",
       "  <thead>\n",
       "    <tr style=\"text-align: right;\">\n",
       "      <th></th>\n",
       "      <th>Logistic Reg.(Accuracy)</th>\n",
       "      <th>Logistic Reg.(Recall)</th>\n",
       "      <th>SVC (Accuracy)</th>\n",
       "      <th>SVC (Recall)</th>\n",
       "      <th>Random Forest (Accuracy)</th>\n",
       "      <th>Random Forest (Recall)</th>\n",
       "      <th>XGB</th>\n",
       "    </tr>\n",
       "  </thead>\n",
       "  <tbody>\n",
       "    <tr>\n",
       "      <th>Accuracy_Score</th>\n",
       "      <td>0.770068</td>\n",
       "      <td>0.768513</td>\n",
       "      <td>0.780336</td>\n",
       "      <td>0.673615</td>\n",
       "      <td>0.818295</td>\n",
       "      <td>0.801493</td>\n",
       "      <td>0.895457</td>\n",
       "    </tr>\n",
       "    <tr>\n",
       "      <th>Recall_Score</th>\n",
       "      <td>0.775980</td>\n",
       "      <td>0.771624</td>\n",
       "      <td>0.772869</td>\n",
       "      <td>0.828874</td>\n",
       "      <td>0.802116</td>\n",
       "      <td>0.744244</td>\n",
       "      <td>0.865588</td>\n",
       "    </tr>\n",
       "    <tr>\n",
       "      <th>Precision_Score</th>\n",
       "      <td>0.766913</td>\n",
       "      <td>0.766852</td>\n",
       "      <td>0.784586</td>\n",
       "      <td>0.632479</td>\n",
       "      <td>0.828939</td>\n",
       "      <td>0.840478</td>\n",
       "      <td>0.920582</td>\n",
       "    </tr>\n",
       "    <tr>\n",
       "      <th>F1_Score</th>\n",
       "      <td>0.771420</td>\n",
       "      <td>0.769231</td>\n",
       "      <td>0.778683</td>\n",
       "      <td>0.717479</td>\n",
       "      <td>0.815307</td>\n",
       "      <td>0.789439</td>\n",
       "      <td>0.892239</td>\n",
       "    </tr>\n",
       "  </tbody>\n",
       "</table>\n",
       "</div>"
      ],
      "text/plain": [
       "                 Logistic Reg.(Accuracy)  Logistic Reg.(Recall)  \\\n",
       "Accuracy_Score                  0.770068               0.768513   \n",
       "Recall_Score                    0.775980               0.771624   \n",
       "Precision_Score                 0.766913               0.766852   \n",
       "F1_Score                        0.771420               0.769231   \n",
       "\n",
       "                 SVC (Accuracy)  SVC (Recall)  Random Forest (Accuracy)  \\\n",
       "Accuracy_Score         0.780336      0.673615                  0.818295   \n",
       "Recall_Score           0.772869      0.828874                  0.802116   \n",
       "Precision_Score        0.784586      0.632479                  0.828939   \n",
       "F1_Score               0.778683      0.717479                  0.815307   \n",
       "\n",
       "                 Random Forest (Recall)       XGB  \n",
       "Accuracy_Score                 0.801493  0.895457  \n",
       "Recall_Score                   0.744244  0.865588  \n",
       "Precision_Score                0.840478  0.920582  \n",
       "F1_Score                       0.789439  0.892239  "
      ]
     },
     "execution_count": 272,
     "metadata": {},
     "output_type": "execute_result"
    }
   ],
   "source": [
    "# Set 4 Score:\n",
    "ind_name=['Accuracy_Score','Recall_Score','Precision_Score','F1_Score']\n",
    "summary4=pd.DataFrame(np.vstack((Accuracy_Score,Recall_Score,Precision_Score,F1_Score)),\n",
    "                      columns=['Logistic Reg.(Accuracy)','Logistic Reg.(Recall)',\n",
    "                               'SVC (Accuracy)','SVC (Recall)',\n",
    "                               'Random Forest (Accuracy)','Random Forest (Recall)'\n",
    "                               ,'XGB'],index=ind_name)\n",
    "summary4"
   ]
  },
  {
   "cell_type": "markdown",
   "metadata": {},
   "source": [
    "## Model Selection"
   ]
  },
  {
   "cell_type": "code",
   "execution_count": 273,
   "metadata": {},
   "outputs": [
    {
     "data": {
      "text/html": [
       "<div>\n",
       "<style scoped>\n",
       "    .dataframe tbody tr th:only-of-type {\n",
       "        vertical-align: middle;\n",
       "    }\n",
       "\n",
       "    .dataframe tbody tr th {\n",
       "        vertical-align: top;\n",
       "    }\n",
       "\n",
       "    .dataframe thead th {\n",
       "        text-align: right;\n",
       "    }\n",
       "</style>\n",
       "<table border=\"1\" class=\"dataframe\">\n",
       "  <thead>\n",
       "    <tr style=\"text-align: right;\">\n",
       "      <th></th>\n",
       "      <th>Logistic Reg.</th>\n",
       "      <th>SVC</th>\n",
       "      <th>Random Forest</th>\n",
       "      <th>XGB</th>\n",
       "    </tr>\n",
       "  </thead>\n",
       "  <tbody>\n",
       "    <tr>\n",
       "      <th>Accuracy_Score</th>\n",
       "      <td>0.780025</td>\n",
       "      <td>0.821717</td>\n",
       "      <td>0.821717</td>\n",
       "      <td>0.623522</td>\n",
       "    </tr>\n",
       "    <tr>\n",
       "      <th>Recall_Score</th>\n",
       "      <td>0.802738</td>\n",
       "      <td>0.830118</td>\n",
       "      <td>0.752334</td>\n",
       "      <td>0.985688</td>\n",
       "    </tr>\n",
       "    <tr>\n",
       "      <th>Precision_Score</th>\n",
       "      <td>0.767857</td>\n",
       "      <td>0.816401</td>\n",
       "      <td>0.873555</td>\n",
       "      <td>0.571635</td>\n",
       "    </tr>\n",
       "    <tr>\n",
       "      <th>F1_Score</th>\n",
       "      <td>0.784910</td>\n",
       "      <td>0.823203</td>\n",
       "      <td>0.808425</td>\n",
       "      <td>0.723618</td>\n",
       "    </tr>\n",
       "  </tbody>\n",
       "</table>\n",
       "</div>"
      ],
      "text/plain": [
       "                 Logistic Reg.       SVC  Random Forest       XGB\n",
       "Accuracy_Score        0.780025  0.821717       0.821717  0.623522\n",
       "Recall_Score          0.802738  0.830118       0.752334  0.985688\n",
       "Precision_Score       0.767857  0.816401       0.873555  0.571635\n",
       "F1_Score              0.784910  0.823203       0.808425  0.723618"
      ]
     },
     "execution_count": 273,
     "metadata": {},
     "output_type": "execute_result"
    }
   ],
   "source": [
    "summary1"
   ]
  },
  {
   "cell_type": "code",
   "execution_count": 274,
   "metadata": {},
   "outputs": [
    {
     "data": {
      "text/html": [
       "<div>\n",
       "<style scoped>\n",
       "    .dataframe tbody tr th:only-of-type {\n",
       "        vertical-align: middle;\n",
       "    }\n",
       "\n",
       "    .dataframe tbody tr th {\n",
       "        vertical-align: top;\n",
       "    }\n",
       "\n",
       "    .dataframe thead th {\n",
       "        text-align: right;\n",
       "    }\n",
       "</style>\n",
       "<table border=\"1\" class=\"dataframe\">\n",
       "  <thead>\n",
       "    <tr style=\"text-align: right;\">\n",
       "      <th></th>\n",
       "      <th>Logistic Reg.</th>\n",
       "      <th>SVC</th>\n",
       "      <th>Random Forest</th>\n",
       "      <th>XGB</th>\n",
       "    </tr>\n",
       "  </thead>\n",
       "  <tbody>\n",
       "    <tr>\n",
       "      <th>Accuracy_Score</th>\n",
       "      <td>0.772246</td>\n",
       "      <td>0.757623</td>\n",
       "      <td>0.789048</td>\n",
       "      <td>0.589919</td>\n",
       "    </tr>\n",
       "    <tr>\n",
       "      <th>Recall_Score</th>\n",
       "      <td>0.783447</td>\n",
       "      <td>0.765401</td>\n",
       "      <td>0.719353</td>\n",
       "      <td>0.993155</td>\n",
       "    </tr>\n",
       "    <tr>\n",
       "      <th>Precision_Score</th>\n",
       "      <td>0.766281</td>\n",
       "      <td>0.753676</td>\n",
       "      <td>0.835864</td>\n",
       "      <td>0.549776</td>\n",
       "    </tr>\n",
       "    <tr>\n",
       "      <th>F1_Score</th>\n",
       "      <td>0.774769</td>\n",
       "      <td>0.759494</td>\n",
       "      <td>0.773244</td>\n",
       "      <td>0.707761</td>\n",
       "    </tr>\n",
       "  </tbody>\n",
       "</table>\n",
       "</div>"
      ],
      "text/plain": [
       "                 Logistic Reg.       SVC  Random Forest       XGB\n",
       "Accuracy_Score        0.772246  0.757623       0.789048  0.589919\n",
       "Recall_Score          0.783447  0.765401       0.719353  0.993155\n",
       "Precision_Score       0.766281  0.753676       0.835864  0.549776\n",
       "F1_Score              0.774769  0.759494       0.773244  0.707761"
      ]
     },
     "execution_count": 274,
     "metadata": {},
     "output_type": "execute_result"
    }
   ],
   "source": [
    "summary2"
   ]
  },
  {
   "cell_type": "code",
   "execution_count": 275,
   "metadata": {},
   "outputs": [
    {
     "data": {
      "text/html": [
       "<div>\n",
       "<style scoped>\n",
       "    .dataframe tbody tr th:only-of-type {\n",
       "        vertical-align: middle;\n",
       "    }\n",
       "\n",
       "    .dataframe tbody tr th {\n",
       "        vertical-align: top;\n",
       "    }\n",
       "\n",
       "    .dataframe thead th {\n",
       "        text-align: right;\n",
       "    }\n",
       "</style>\n",
       "<table border=\"1\" class=\"dataframe\">\n",
       "  <thead>\n",
       "    <tr style=\"text-align: right;\">\n",
       "      <th></th>\n",
       "      <th>Logistic Reg.(Accuracy)</th>\n",
       "      <th>Logistic Reg.(Recall)</th>\n",
       "      <th>SVC (Accuracy)</th>\n",
       "      <th>SVC (Recall)</th>\n",
       "      <th>Random Forest (Accuracy)</th>\n",
       "      <th>Random Forest (Recall)</th>\n",
       "      <th>XGB</th>\n",
       "    </tr>\n",
       "  </thead>\n",
       "  <tbody>\n",
       "    <tr>\n",
       "      <th>Accuracy_Score</th>\n",
       "      <td>0.778469</td>\n",
       "      <td>0.773491</td>\n",
       "      <td>0.822651</td>\n",
       "      <td>0.822651</td>\n",
       "      <td>0.834474</td>\n",
       "      <td>0.834474</td>\n",
       "      <td>0.870566</td>\n",
       "    </tr>\n",
       "    <tr>\n",
       "      <th>Recall_Score</th>\n",
       "      <td>0.804605</td>\n",
       "      <td>0.800249</td>\n",
       "      <td>0.817673</td>\n",
       "      <td>0.817673</td>\n",
       "      <td>0.777225</td>\n",
       "      <td>0.777225</td>\n",
       "      <td>0.870566</td>\n",
       "    </tr>\n",
       "    <tr>\n",
       "      <th>Precision_Score</th>\n",
       "      <td>0.764636</td>\n",
       "      <td>0.759598</td>\n",
       "      <td>0.825896</td>\n",
       "      <td>0.825896</td>\n",
       "      <td>0.877723</td>\n",
       "      <td>0.877723</td>\n",
       "      <td>0.870566</td>\n",
       "    </tr>\n",
       "    <tr>\n",
       "      <th>F1_Score</th>\n",
       "      <td>0.784112</td>\n",
       "      <td>0.779394</td>\n",
       "      <td>0.821764</td>\n",
       "      <td>0.821764</td>\n",
       "      <td>0.824422</td>\n",
       "      <td>0.824422</td>\n",
       "      <td>0.870566</td>\n",
       "    </tr>\n",
       "  </tbody>\n",
       "</table>\n",
       "</div>"
      ],
      "text/plain": [
       "                 Logistic Reg.(Accuracy)  Logistic Reg.(Recall)  \\\n",
       "Accuracy_Score                  0.778469               0.773491   \n",
       "Recall_Score                    0.804605               0.800249   \n",
       "Precision_Score                 0.764636               0.759598   \n",
       "F1_Score                        0.784112               0.779394   \n",
       "\n",
       "                 SVC (Accuracy)  SVC (Recall)  Random Forest (Accuracy)  \\\n",
       "Accuracy_Score         0.822651      0.822651                  0.834474   \n",
       "Recall_Score           0.817673      0.817673                  0.777225   \n",
       "Precision_Score        0.825896      0.825896                  0.877723   \n",
       "F1_Score               0.821764      0.821764                  0.824422   \n",
       "\n",
       "                 Random Forest (Recall)       XGB  \n",
       "Accuracy_Score                 0.834474  0.870566  \n",
       "Recall_Score                   0.777225  0.870566  \n",
       "Precision_Score                0.877723  0.870566  \n",
       "F1_Score                       0.824422  0.870566  "
      ]
     },
     "execution_count": 275,
     "metadata": {},
     "output_type": "execute_result"
    }
   ],
   "source": [
    "summary3"
   ]
  },
  {
   "cell_type": "code",
   "execution_count": 276,
   "metadata": {},
   "outputs": [
    {
     "data": {
      "text/html": [
       "<div>\n",
       "<style scoped>\n",
       "    .dataframe tbody tr th:only-of-type {\n",
       "        vertical-align: middle;\n",
       "    }\n",
       "\n",
       "    .dataframe tbody tr th {\n",
       "        vertical-align: top;\n",
       "    }\n",
       "\n",
       "    .dataframe thead th {\n",
       "        text-align: right;\n",
       "    }\n",
       "</style>\n",
       "<table border=\"1\" class=\"dataframe\">\n",
       "  <thead>\n",
       "    <tr style=\"text-align: right;\">\n",
       "      <th></th>\n",
       "      <th>Logistic Reg.(Accuracy)</th>\n",
       "      <th>Logistic Reg.(Recall)</th>\n",
       "      <th>SVC (Accuracy)</th>\n",
       "      <th>SVC (Recall)</th>\n",
       "      <th>Random Forest (Accuracy)</th>\n",
       "      <th>Random Forest (Recall)</th>\n",
       "      <th>XGB</th>\n",
       "    </tr>\n",
       "  </thead>\n",
       "  <tbody>\n",
       "    <tr>\n",
       "      <th>Accuracy_Score</th>\n",
       "      <td>0.770068</td>\n",
       "      <td>0.768513</td>\n",
       "      <td>0.780336</td>\n",
       "      <td>0.673615</td>\n",
       "      <td>0.818295</td>\n",
       "      <td>0.801493</td>\n",
       "      <td>0.895457</td>\n",
       "    </tr>\n",
       "    <tr>\n",
       "      <th>Recall_Score</th>\n",
       "      <td>0.775980</td>\n",
       "      <td>0.771624</td>\n",
       "      <td>0.772869</td>\n",
       "      <td>0.828874</td>\n",
       "      <td>0.802116</td>\n",
       "      <td>0.744244</td>\n",
       "      <td>0.865588</td>\n",
       "    </tr>\n",
       "    <tr>\n",
       "      <th>Precision_Score</th>\n",
       "      <td>0.766913</td>\n",
       "      <td>0.766852</td>\n",
       "      <td>0.784586</td>\n",
       "      <td>0.632479</td>\n",
       "      <td>0.828939</td>\n",
       "      <td>0.840478</td>\n",
       "      <td>0.920582</td>\n",
       "    </tr>\n",
       "    <tr>\n",
       "      <th>F1_Score</th>\n",
       "      <td>0.771420</td>\n",
       "      <td>0.769231</td>\n",
       "      <td>0.778683</td>\n",
       "      <td>0.717479</td>\n",
       "      <td>0.815307</td>\n",
       "      <td>0.789439</td>\n",
       "      <td>0.892239</td>\n",
       "    </tr>\n",
       "  </tbody>\n",
       "</table>\n",
       "</div>"
      ],
      "text/plain": [
       "                 Logistic Reg.(Accuracy)  Logistic Reg.(Recall)  \\\n",
       "Accuracy_Score                  0.770068               0.768513   \n",
       "Recall_Score                    0.775980               0.771624   \n",
       "Precision_Score                 0.766913               0.766852   \n",
       "F1_Score                        0.771420               0.769231   \n",
       "\n",
       "                 SVC (Accuracy)  SVC (Recall)  Random Forest (Accuracy)  \\\n",
       "Accuracy_Score         0.780336      0.673615                  0.818295   \n",
       "Recall_Score           0.772869      0.828874                  0.802116   \n",
       "Precision_Score        0.784586      0.632479                  0.828939   \n",
       "F1_Score               0.778683      0.717479                  0.815307   \n",
       "\n",
       "                 Random Forest (Recall)       XGB  \n",
       "Accuracy_Score                 0.801493  0.895457  \n",
       "Recall_Score                   0.744244  0.865588  \n",
       "Precision_Score                0.840478  0.920582  \n",
       "F1_Score                       0.789439  0.892239  "
      ]
     },
     "execution_count": 276,
     "metadata": {},
     "output_type": "execute_result"
    }
   ],
   "source": [
    "summary4"
   ]
  },
  {
   "cell_type": "markdown",
   "metadata": {},
   "source": [
    "After hyperparameter tuning, we can see that:\n",
    "1) For Accuracy, SVC, Random Forest and XGB in set 1 and set 2 Model have been improved.\n",
    "\n",
    "2) For Recall rate, Random Forest has been improved in set 1 while SVC and random forest have been improved in set 2.\n",
    "\n",
    "So, which model should be used?\n",
    "In my opinion, XGB with hyperparameter tuning in set 2 are recommended to use.\n",
    "As mentioned before, our business question is find out customer who will exit the bank.\n",
    "Therefore, Recall Rate is more important than Accuracy Score.\n",
    "\n",
    "Recap that:\n",
    "TP (True Positive): Predict customer will exit while the customer really exit\n",
    "TN (True Negative): Predict customer will not exit while the customer really not exit\n",
    "FP (False Positive): Predict customer will exit while actually the customer will not exit \n",
    "FN (False Negative): Predict customer will not exit while actually the customer will exit \n",
    "\n",
    "Accuracy Rate = TP/(TP+TN)\n",
    "Recall Rate = TP/(TP+FN)\n",
    "Precision = TP/(TP+FP)\n",
    "F1 Score = 2TP/(2TP+FP+FN)\n",
    "\n",
    "In our case, we want predict Exit customer for retention.\n",
    "Therefore, which ones is more important?\n",
    "A) Finding a exit customer from a base with exiting customer and not exiting customer correctly? OR\n",
    "B) Finding a exit customer from a base with exiting customer and 'I guess the customer will not leave, but actually the customer will leave'? OR\n",
    "C) Finding a exit customer from a base with exiting customer and 'I guess the customer will leave, but actually the customer will not leave'?\n",
    "\n",
    "The answer should be B, right? \n",
    "We should minimize the % of 'I guess the customer will not leave, but actually the customer will leave', i.e. Use the highest recall rate.\n",
    "\n",
    "Therefore XGBoost in set 2 seems the best ones we are going to use.\n",
    "We should the ones with hyperparameter tuning because the F1_Score is higher than the ones without tuning.\n",
    "F1 score becomes high only when both precision and recall are high.\n",
    "\n",
    "Next Action:\n",
    "To improve our model, we can do more EDA and Feature Engineering.\n"
   ]
  }
 ],
 "metadata": {
  "kernelspec": {
   "display_name": "Python 3",
   "language": "python",
   "name": "python3"
  },
  "language_info": {
   "codemirror_mode": {
    "name": "ipython",
    "version": 3
   },
   "file_extension": ".py",
   "mimetype": "text/x-python",
   "name": "python",
   "nbconvert_exporter": "python",
   "pygments_lexer": "ipython3",
   "version": "3.7.6"
  }
 },
 "nbformat": 4,
 "nbformat_minor": 4
}
